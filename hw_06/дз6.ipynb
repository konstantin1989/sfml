{
 "cells": [
  {
   "cell_type": "code",
   "execution_count": 1,
   "metadata": {},
   "outputs": [
    {
     "name": "stderr",
     "output_type": "stream",
     "text": [
      "C:\\Users\\iseob\\Anaconda3\\lib\\site-packages\\sklearn\\cross_validation.py:41: DeprecationWarning: This module was deprecated in version 0.18 in favor of the model_selection module into which all the refactored classes and functions are moved. Also note that the interface of the new CV iterators are different from that of this module. This module will be removed in 0.20.\n",
      "  \"This module will be removed in 0.20.\", DeprecationWarning)\n"
     ]
    }
   ],
   "source": [
    "#попробовать другие модели\n",
    "#попробовать word2vec\n",
    "\n",
    "import codecs # Чтобы не было проблем с кодировками.\n",
    "import pandas as pd\n",
    "from bs4 import BeautifulSoup as bs\n",
    "\n",
    "import re\n",
    "import numpy\n",
    "import matplotlib.pyplot as plot\n",
    "\n",
    "from sklearn.feature_extraction.text import CountVectorizer, TfidfVectorizer\n",
    "from sklearn.linear_model import LogisticRegression\n",
    "from sklearn.cross_validation import train_test_split\n",
    "import time"
   ]
  },
  {
   "cell_type": "code",
   "execution_count": 10,
   "metadata": {},
   "outputs": [],
   "source": [
    "df = pd.read_csv('traincsv/train.csv', delimiter='\\t', encoding='utf8', index_col='id')"
   ]
  },
  {
   "cell_type": "code",
   "execution_count": 3,
   "metadata": {},
   "outputs": [],
   "source": [
    "df2 = pd.read_csv('test.csv/test.csv', delimiter='\\t', encoding='utf8', index_col='id')"
   ]
  },
  {
   "cell_type": "code",
   "execution_count": 11,
   "metadata": {},
   "outputs": [],
   "source": [
    "target_array = df['target'].values"
   ]
  },
  {
   "cell_type": "code",
   "execution_count": 5,
   "metadata": {},
   "outputs": [],
   "source": [
    "df = df.drop(['target'], axis=1)"
   ]
  },
  {
   "cell_type": "code",
   "execution_count": 6,
   "metadata": {},
   "outputs": [],
   "source": [
    "df3 = df.append(df2)"
   ]
  },
  {
   "cell_type": "code",
   "execution_count": 7,
   "metadata": {},
   "outputs": [],
   "source": [
    "df3['description'] = df3['description'].map(lambda x: bs(x, \"lxml\").get_text())"
   ]
  },
  {
   "cell_type": "code",
   "execution_count": 8,
   "metadata": {
    "scrolled": true
   },
   "outputs": [
    {
     "data": {
      "text/html": [
       "<div>\n",
       "<style scoped>\n",
       "    .dataframe tbody tr th:only-of-type {\n",
       "        vertical-align: middle;\n",
       "    }\n",
       "\n",
       "    .dataframe tbody tr th {\n",
       "        vertical-align: top;\n",
       "    }\n",
       "\n",
       "    .dataframe thead th {\n",
       "        text-align: right;\n",
       "    }\n",
       "</style>\n",
       "<table border=\"1\" class=\"dataframe\">\n",
       "  <thead>\n",
       "    <tr style=\"text-align: right;\">\n",
       "      <th></th>\n",
       "      <th>name</th>\n",
       "      <th>description</th>\n",
       "      <th>text</th>\n",
       "    </tr>\n",
       "    <tr>\n",
       "      <th>id</th>\n",
       "      <th></th>\n",
       "      <th></th>\n",
       "      <th></th>\n",
       "    </tr>\n",
       "  </thead>\n",
       "  <tbody>\n",
       "    <tr>\n",
       "      <th>0</th>\n",
       "      <td>заведовать отдел секция в магазин york  уручей</td>\n",
       "      <td>в новый магазин york  хозтовары  приглашать на...</td>\n",
       "      <td>заведовать отдел секция в магазин york  уручей...</td>\n",
       "    </tr>\n",
       "    <tr>\n",
       "      <th>1</th>\n",
       "      <td>наладчик станок и манипулятор с пу</td>\n",
       "      <td>обязанность работа на токарный станок с чпу ta...</td>\n",
       "      <td>наладчик станок и манипулятор с пу наладчик ст...</td>\n",
       "    </tr>\n",
       "    <tr>\n",
       "      <th>2</th>\n",
       "      <td>разработчик с++  криптограф</td>\n",
       "      <td>требование   опыт программирование на с++ знан...</td>\n",
       "      <td>разработчик с++  криптограф  разработчик с++  ...</td>\n",
       "    </tr>\n",
       "    <tr>\n",
       "      <th>3</th>\n",
       "      <td>фрезеровщик</td>\n",
       "      <td>условие   на работа вахтовый метод в год  калу...</td>\n",
       "      <td>фрезеровщик фрезеровщик фрезеровщик фрезеровщи...</td>\n",
       "    </tr>\n",
       "    <tr>\n",
       "      <th>4</th>\n",
       "      <td>мерчендайзер продавец-консультант</td>\n",
       "      <td>компания палладиум стандарт - признанный лидер...</td>\n",
       "      <td>мерчендайзер продавец-консультант мерчендайзер...</td>\n",
       "    </tr>\n",
       "    <tr>\n",
       "      <th>5</th>\n",
       "      <td>мастер по эксплуатация здание</td>\n",
       "      <td>обязанность   обеспечение бесперебойный работа...</td>\n",
       "      <td>мастер по эксплуатация здание мастер по эксплу...</td>\n",
       "    </tr>\n",
       "    <tr>\n",
       "      <th>6</th>\n",
       "      <td>торговый представитель</td>\n",
       "      <td>на стабильный и распространить направление \"за...</td>\n",
       "      <td>торговый представитель торговый представитель ...</td>\n",
       "    </tr>\n",
       "    <tr>\n",
       "      <th>7</th>\n",
       "      <td>торговый представитель</td>\n",
       "      <td>обязанность   функционал работа торговый предс...</td>\n",
       "      <td>торговый представитель торговый представитель ...</td>\n",
       "    </tr>\n",
       "    <tr>\n",
       "      <th>8</th>\n",
       "      <td>менеджер по продажа</td>\n",
       "      <td>обязанность   продажа садовый  лесопарковый те...</td>\n",
       "      <td>менеджер по продажа менеджер по продажа менедж...</td>\n",
       "    </tr>\n",
       "    <tr>\n",
       "      <th>9</th>\n",
       "      <td>менеджер по работа с ключевой клиент  posm</td>\n",
       "      <td>обязанность   развитие клиентский база  крупны...</td>\n",
       "      <td>менеджер по работа с ключевой клиент  posm  ме...</td>\n",
       "    </tr>\n",
       "    <tr>\n",
       "      <th>10</th>\n",
       "      <td>backend developer  node js nosql</td>\n",
       "      <td>сегодня плэйкот - это 8 год история  110 профе...</td>\n",
       "      <td>backend developer  node js nosql  backend deve...</td>\n",
       "    </tr>\n",
       "    <tr>\n",
       "      <th>11</th>\n",
       "      <td>продавец-кассир  год орск  ул станиславский  13</td>\n",
       "      <td>для каждый  кто хотеть работать и зарабатывать...</td>\n",
       "      <td>продавец-кассир  год орск  ул станиславский  1...</td>\n",
       "    </tr>\n",
       "    <tr>\n",
       "      <th>12</th>\n",
       "      <td>специалист технический поддержка</td>\n",
       "      <td>обязанность  -приём только входящая звонок от ...</td>\n",
       "      <td>специалист технический поддержка специалист те...</td>\n",
       "    </tr>\n",
       "    <tr>\n",
       "      <th>13</th>\n",
       "      <td>продавец-кассир  год истра  ул 9 гвардейский д...</td>\n",
       "      <td>для каждый  кто хотеть работать и зарабатывать...</td>\n",
       "      <td>продавец-кассир  год истра  ул 9 гвардейский д...</td>\n",
       "    </tr>\n",
       "    <tr>\n",
       "      <th>14</th>\n",
       "      <td>менеджер по работа с клиент</td>\n",
       "      <td>друг  сейчас мы находиться в поиск инициативны...</td>\n",
       "      <td>менеджер по работа с клиент менеджер по работа...</td>\n",
       "    </tr>\n",
       "    <tr>\n",
       "      <th>15</th>\n",
       "      <td>программист 1с</td>\n",
       "      <td>обязанность   программирование в среда 1с  ут ...</td>\n",
       "      <td>программист 1с программист 1с программист 1с п...</td>\n",
       "    </tr>\n",
       "    <tr>\n",
       "      <th>16</th>\n",
       "      <td>директор магазин  год кемерово  ул свобода  12</td>\n",
       "      <td>ведущий федеральный розничный сеть магазин «пя...</td>\n",
       "      <td>директор магазин  год кемерово  ул свобода  12...</td>\n",
       "    </tr>\n",
       "    <tr>\n",
       "      <th>17</th>\n",
       "      <td>pr-менеджер</td>\n",
       "      <td>обязанность   написание пресс-релиз  пресс-мат...</td>\n",
       "      <td>pr-менеджер pr-менеджер pr-менеджер pr-менедже...</td>\n",
       "    </tr>\n",
       "    <tr>\n",
       "      <th>18</th>\n",
       "      <td>менеджер по продажа оборудование</td>\n",
       "      <td>обязанность   проведение переговоры и презента...</td>\n",
       "      <td>менеджер по продажа оборудование менеджер по п...</td>\n",
       "    </tr>\n",
       "    <tr>\n",
       "      <th>19</th>\n",
       "      <td>администратор-менеджер</td>\n",
       "      <td>обязанность   следить за чистота в магазин  ра...</td>\n",
       "      <td>администратор-менеджер администратор-менеджер ...</td>\n",
       "    </tr>\n",
       "  </tbody>\n",
       "</table>\n",
       "</div>"
      ],
      "text/plain": [
       "                                                 name  \\\n",
       "id                                                      \n",
       "0     заведовать отдел секция в магазин york  уручей    \n",
       "1                  наладчик станок и манипулятор с пу   \n",
       "2                        разработчик с++  криптограф    \n",
       "3                                         фрезеровщик   \n",
       "4                   мерчендайзер продавец-консультант   \n",
       "5                       мастер по эксплуатация здание   \n",
       "6                              торговый представитель   \n",
       "7                              торговый представитель   \n",
       "8                                 менеджер по продажа   \n",
       "9         менеджер по работа с ключевой клиент  posm    \n",
       "10                  backend developer  node js nosql    \n",
       "11   продавец-кассир  год орск  ул станиславский  13    \n",
       "12                   специалист технический поддержка   \n",
       "13  продавец-кассир  год истра  ул 9 гвардейский д...   \n",
       "14                        менеджер по работа с клиент   \n",
       "15                                     программист 1с   \n",
       "16    директор магазин  год кемерово  ул свобода  12    \n",
       "17                                        pr-менеджер   \n",
       "18                   менеджер по продажа оборудование   \n",
       "19                             администратор-менеджер   \n",
       "\n",
       "                                          description  \\\n",
       "id                                                      \n",
       "0   в новый магазин york  хозтовары  приглашать на...   \n",
       "1   обязанность работа на токарный станок с чпу ta...   \n",
       "2   требование   опыт программирование на с++ знан...   \n",
       "3   условие   на работа вахтовый метод в год  калу...   \n",
       "4   компания палладиум стандарт - признанный лидер...   \n",
       "5   обязанность   обеспечение бесперебойный работа...   \n",
       "6   на стабильный и распространить направление \"за...   \n",
       "7   обязанность   функционал работа торговый предс...   \n",
       "8   обязанность   продажа садовый  лесопарковый те...   \n",
       "9   обязанность   развитие клиентский база  крупны...   \n",
       "10  сегодня плэйкот - это 8 год история  110 профе...   \n",
       "11  для каждый  кто хотеть работать и зарабатывать...   \n",
       "12  обязанность  -приём только входящая звонок от ...   \n",
       "13  для каждый  кто хотеть работать и зарабатывать...   \n",
       "14  друг  сейчас мы находиться в поиск инициативны...   \n",
       "15  обязанность   программирование в среда 1с  ут ...   \n",
       "16  ведущий федеральный розничный сеть магазин «пя...   \n",
       "17  обязанность   написание пресс-релиз  пресс-мат...   \n",
       "18  обязанность   проведение переговоры и презента...   \n",
       "19  обязанность   следить за чистота в магазин  ра...   \n",
       "\n",
       "                                                 text  \n",
       "id                                                     \n",
       "0   заведовать отдел секция в магазин york  уручей...  \n",
       "1   наладчик станок и манипулятор с пу наладчик ст...  \n",
       "2   разработчик с++  криптограф  разработчик с++  ...  \n",
       "3   фрезеровщик фрезеровщик фрезеровщик фрезеровщи...  \n",
       "4   мерчендайзер продавец-консультант мерчендайзер...  \n",
       "5   мастер по эксплуатация здание мастер по эксплу...  \n",
       "6   торговый представитель торговый представитель ...  \n",
       "7   торговый представитель торговый представитель ...  \n",
       "8   менеджер по продажа менеджер по продажа менедж...  \n",
       "9   менеджер по работа с ключевой клиент  posm  ме...  \n",
       "10  backend developer  node js nosql  backend deve...  \n",
       "11  продавец-кассир  год орск  ул станиславский  1...  \n",
       "12  специалист технический поддержка специалист те...  \n",
       "13  продавец-кассир  год истра  ул 9 гвардейский д...  \n",
       "14  менеджер по работа с клиент менеджер по работа...  \n",
       "15  программист 1с программист 1с программист 1с п...  \n",
       "16  директор магазин  год кемерово  ул свобода  12...  \n",
       "17  pr-менеджер pr-менеджер pr-менеджер pr-менедже...  \n",
       "18  менеджер по продажа оборудование менеджер по п...  \n",
       "19  администратор-менеджер администратор-менеджер ...  "
      ]
     },
     "execution_count": 8,
     "metadata": {},
     "output_type": "execute_result"
    }
   ],
   "source": [
    "df3.head(20)"
   ]
  },
  {
   "cell_type": "code",
   "execution_count": 18,
   "metadata": {},
   "outputs": [],
   "source": [
    "import pymorphy2"
   ]
  },
  {
   "cell_type": "code",
   "execution_count": 19,
   "metadata": {},
   "outputs": [],
   "source": [
    "m2 = pymorphy2.MorphAnalyzer()"
   ]
  },
  {
   "cell_type": "code",
   "execution_count": 20,
   "metadata": {},
   "outputs": [],
   "source": [
    "df3['description'] = df3['description'].map(lambda x: re.sub('[()/|,.:;–!?]',' ', x))"
   ]
  },
  {
   "cell_type": "code",
   "execution_count": 21,
   "metadata": {},
   "outputs": [],
   "source": [
    "df3['name'] = df3['name'].map(lambda x: re.sub('[()/|,.:;–!?]',' ', x))"
   ]
  },
  {
   "cell_type": "code",
   "execution_count": 36,
   "metadata": {},
   "outputs": [],
   "source": [
    "df3['name'] = df3['name'].map(lambda x: ' '.join([m2.normal_forms(i)[0] for i in x.split(' ')])) "
   ]
  },
  {
   "cell_type": "code",
   "execution_count": 38,
   "metadata": {},
   "outputs": [],
   "source": [
    "df3['description'] = df3['description'].map(lambda x: ' '.join([m2.normal_forms(i)[0] for i in x.split(' ')])) "
   ]
  },
  {
   "cell_type": "code",
   "execution_count": 4,
   "metadata": {},
   "outputs": [],
   "source": [
    "#таким образом я увеличил вес name) на модели, что будет ниже это дает некоторый прирост качества\n",
    "df3['text'] = ((df3['name']+' ')*15 + '| '+df3['description'])"
   ]
  },
  {
   "cell_type": "code",
   "execution_count": 5,
   "metadata": {
    "scrolled": false
   },
   "outputs": [
    {
     "data": {
      "text/plain": [
       "'заведовать отдел секция в магазин york  уручей  заведовать отдел секция в магазин york  уручей  заведовать отдел секция в магазин york  уручей  заведовать отдел секция в магазин york  уручей  заведовать отдел секция в магазин york  уручей  заведовать отдел секция в магазин york  уручей  заведовать отдел секция в магазин york  уручей  заведовать отдел секция в магазин york  уручей  заведовать отдел секция в магазин york  уручей  заведовать отдел секция в магазин york  уручей  заведовать отдел секция в магазин york  уручей  заведовать отдел секция в магазин york  уручей  заведовать отдел секция в магазин york  уручей  заведовать отдел секция в магазин york  уручей  заведовать отдел секция в магазин york  уручей  | в новый магазин york  хозтовары  приглашать на постоянный работа руководитель секция  хозтовары   обязанность      организация эффективный и культурный обслуживание покупатель организация приёмка-сдача товар на склад консультация покупатель по вопрос  касаться оказывать услуга контроль своевременный подача товар в торговый секция проверка качество  срок годность тмц  наличие маркировка  ценник на товар организация бесперебойный работа товарный секция и участок склад  закрепить за она контроль за сохранность товар  торговый оборудование и прочий материальный ценность инвентаризация товар    требование   знание товарный группа знание правило приёмка товар опыт работа в розничный торговля в качество продавец 6 р    заместитель заведовать секция отдел ответственность  лидерский качество  опыт управление коллектив      условие   новый современный магазин розничный торговля хозтовары хороший коллектив достойный зарплата  премия  соц пакет график работа пн-пт с 8 00 до 16 30  плавать     место работа  ул  никифоров  уручей '"
      ]
     },
     "execution_count": 5,
     "metadata": {},
     "output_type": "execute_result"
    }
   ],
   "source": [
    "df3['text'][0]"
   ]
  },
  {
   "cell_type": "code",
   "execution_count": 39,
   "metadata": {},
   "outputs": [],
   "source": [
    "# сохраню, чтобы в дальнейшем использовать обработанные тексты\n",
    "df3.to_csv('textForLoad.csv')"
   ]
  },
  {
   "cell_type": "code",
   "execution_count": 2,
   "metadata": {},
   "outputs": [],
   "source": [
    "df3 = pd.read_csv('textForLoad.csv', delimiter=',', encoding='utf8', index_col='id')"
   ]
  },
  {
   "cell_type": "code",
   "execution_count": 6,
   "metadata": {},
   "outputs": [
    {
     "data": {
      "text/html": [
       "<div>\n",
       "<style scoped>\n",
       "    .dataframe tbody tr th:only-of-type {\n",
       "        vertical-align: middle;\n",
       "    }\n",
       "\n",
       "    .dataframe tbody tr th {\n",
       "        vertical-align: top;\n",
       "    }\n",
       "\n",
       "    .dataframe thead th {\n",
       "        text-align: right;\n",
       "    }\n",
       "</style>\n",
       "<table border=\"1\" class=\"dataframe\">\n",
       "  <thead>\n",
       "    <tr style=\"text-align: right;\">\n",
       "      <th></th>\n",
       "      <th>name</th>\n",
       "      <th>description</th>\n",
       "      <th>text</th>\n",
       "    </tr>\n",
       "    <tr>\n",
       "      <th>id</th>\n",
       "      <th></th>\n",
       "      <th></th>\n",
       "      <th></th>\n",
       "    </tr>\n",
       "  </thead>\n",
       "  <tbody>\n",
       "    <tr>\n",
       "      <th>0</th>\n",
       "      <td>заведовать отдел секция в магазин york  уручей</td>\n",
       "      <td>в новый магазин york  хозтовары  приглашать на...</td>\n",
       "      <td>заведовать отдел секция в магазин york  уручей...</td>\n",
       "    </tr>\n",
       "    <tr>\n",
       "      <th>1</th>\n",
       "      <td>наладчик станок и манипулятор с пу</td>\n",
       "      <td>обязанность работа на токарный станок с чпу ta...</td>\n",
       "      <td>наладчик станок и манипулятор с пу наладчик ст...</td>\n",
       "    </tr>\n",
       "    <tr>\n",
       "      <th>2</th>\n",
       "      <td>разработчик с++  криптограф</td>\n",
       "      <td>требование   опыт программирование на с++ знан...</td>\n",
       "      <td>разработчик с++  криптограф  разработчик с++  ...</td>\n",
       "    </tr>\n",
       "    <tr>\n",
       "      <th>3</th>\n",
       "      <td>фрезеровщик</td>\n",
       "      <td>условие   на работа вахтовый метод в год  калу...</td>\n",
       "      <td>фрезеровщик фрезеровщик фрезеровщик фрезеровщи...</td>\n",
       "    </tr>\n",
       "    <tr>\n",
       "      <th>4</th>\n",
       "      <td>мерчендайзер продавец-консультант</td>\n",
       "      <td>компания палладиум стандарт - признанный лидер...</td>\n",
       "      <td>мерчендайзер продавец-консультант мерчендайзер...</td>\n",
       "    </tr>\n",
       "  </tbody>\n",
       "</table>\n",
       "</div>"
      ],
      "text/plain": [
       "                                               name  \\\n",
       "id                                                    \n",
       "0   заведовать отдел секция в магазин york  уручей    \n",
       "1                наладчик станок и манипулятор с пу   \n",
       "2                      разработчик с++  криптограф    \n",
       "3                                       фрезеровщик   \n",
       "4                 мерчендайзер продавец-консультант   \n",
       "\n",
       "                                          description  \\\n",
       "id                                                      \n",
       "0   в новый магазин york  хозтовары  приглашать на...   \n",
       "1   обязанность работа на токарный станок с чпу ta...   \n",
       "2   требование   опыт программирование на с++ знан...   \n",
       "3   условие   на работа вахтовый метод в год  калу...   \n",
       "4   компания палладиум стандарт - признанный лидер...   \n",
       "\n",
       "                                                 text  \n",
       "id                                                     \n",
       "0   заведовать отдел секция в магазин york  уручей...  \n",
       "1   наладчик станок и манипулятор с пу наладчик ст...  \n",
       "2   разработчик с++  криптограф  разработчик с++  ...  \n",
       "3   фрезеровщик фрезеровщик фрезеровщик фрезеровщи...  \n",
       "4   мерчендайзер продавец-консультант мерчендайзер...  "
      ]
     },
     "execution_count": 6,
     "metadata": {},
     "output_type": "execute_result"
    }
   ],
   "source": [
    "df3.head()"
   ]
  },
  {
   "cell_type": "code",
   "execution_count": 7,
   "metadata": {},
   "outputs": [],
   "source": [
    "text_array = df3['text'].values"
   ]
  },
  {
   "cell_type": "code",
   "execution_count": 12,
   "metadata": {},
   "outputs": [
    {
     "name": "stdout",
     "output_type": "stream",
     "text": [
      "370179\n",
      "200000\n"
     ]
    }
   ],
   "source": [
    "print(len(text_array))\n",
    "print(len(target_array))"
   ]
  },
  {
   "cell_type": "code",
   "execution_count": 13,
   "metadata": {},
   "outputs": [
    {
     "name": "stdout",
     "output_type": "stream",
     "text": [
      "[nltk_data] Downloading package stopwords to\n",
      "[nltk_data]     C:\\Users\\iseob\\AppData\\Roaming\\nltk_data...\n",
      "[nltk_data]   Package stopwords is already up-to-date!\n"
     ]
    }
   ],
   "source": [
    "import nltk\n",
    "nltk.download('stopwords')\n",
    "stop_words = nltk.corpus.stopwords.words('russian')"
   ]
  },
  {
   "cell_type": "code",
   "execution_count": 14,
   "metadata": {},
   "outputs": [],
   "source": [
    "counter=TfidfVectorizer(min_df=100, ngram_range=(1,2), analyzer='word', stop_words=stop_words, sublinear_tf=True)"
   ]
  },
  {
   "cell_type": "code",
   "execution_count": 15,
   "metadata": {},
   "outputs": [
    {
     "name": "stdout",
     "output_type": "stream",
     "text": [
      "Wall time: 4min 37s\n"
     ]
    }
   ],
   "source": [
    "%%time\n",
    "matrix_count = counter.fit_transform(text_array)"
   ]
  },
  {
   "cell_type": "code",
   "execution_count": 16,
   "metadata": {},
   "outputs": [
    {
     "data": {
      "text/plain": [
       "<200000x58790 sparse matrix of type '<class 'numpy.float64'>'\n",
       "\twith 32568823 stored elements in Compressed Sparse Row format>"
      ]
     },
     "execution_count": 16,
     "metadata": {},
     "output_type": "execute_result"
    }
   ],
   "source": [
    "matrix_count[0:200000]"
   ]
  },
  {
   "cell_type": "code",
   "execution_count": 17,
   "metadata": {},
   "outputs": [
    {
     "data": {
      "text/plain": [
       "58790"
      ]
     },
     "execution_count": 17,
     "metadata": {},
     "output_type": "execute_result"
    }
   ],
   "source": [
    "len(counter.vocabulary_)"
   ]
  },
  {
   "cell_type": "code",
   "execution_count": 18,
   "metadata": {},
   "outputs": [],
   "source": [
    "def cross_valid(matrix_counts, target, test_size=0.3, random_state=0):\n",
    "    X_train, X_test, Y_train, Y_test = train_test_split(matrix_counts, target, test_size=0.3, random_state=0)\n",
    "    return (X_train, X_test, Y_train, Y_test)"
   ]
  },
  {
   "cell_type": "code",
   "execution_count": 19,
   "metadata": {},
   "outputs": [
    {
     "name": "stdout",
     "output_type": "stream",
     "text": [
      "Wall time: 2.07 s\n"
     ]
    }
   ],
   "source": [
    "%%time\n",
    "X_train, X_test, Y_train, Y_test = cross_valid(matrix_count[0:200000], target_array)"
   ]
  },
  {
   "cell_type": "code",
   "execution_count": 20,
   "metadata": {},
   "outputs": [
    {
     "name": "stdout",
     "output_type": "stream",
     "text": [
      "Wall time: 13.9 s\n"
     ]
    }
   ],
   "source": [
    "%%time\n",
    "model = LogisticRegression()\n",
    "model.fit(X_train, Y_train)"
   ]
  },
  {
   "cell_type": "code",
   "execution_count": 21,
   "metadata": {},
   "outputs": [
    {
     "name": "stdout",
     "output_type": "stream",
     "text": [
      "Wall time: 46.2 ms\n"
     ]
    }
   ],
   "source": [
    "%%time\n",
    "predict = model.predict_proba(X_test)"
   ]
  },
  {
   "cell_type": "code",
   "execution_count": 22,
   "metadata": {},
   "outputs": [],
   "source": [
    "from sklearn import metrics\n",
    "precision, recall, _ = metrics.precision_recall_curve(Y_test, predict[:,1])"
   ]
  },
  {
   "cell_type": "code",
   "execution_count": 23,
   "metadata": {},
   "outputs": [
    {
     "data": {
      "text/plain": [
       "(0.0, 1)"
      ]
     },
     "execution_count": 23,
     "metadata": {},
     "output_type": "execute_result"
    },
    {
     "data": {
      "image/png": "[encoded data removed]",
      "text/plain": [
       "<matplotlib.figure.Figure at 0x222867d1828>"
      ]
     },
     "metadata": {},
     "output_type": "display_data"
    }
   ],
   "source": [
    "plot.plot(recall, precision, label='R-P')\n",
    "\n",
    "plot.xlim([0.0, 1.0])\n",
    "plot.ylim([0.0, 1])"
   ]
  },
  {
   "cell_type": "code",
   "execution_count": 24,
   "metadata": {},
   "outputs": [],
   "source": [
    "def roc_curve(title, Y_test, predicted, label='?'):\n",
    "    fpr, tpr, th = metrics.roc_curve(Y_test, predicted[:,1])\n",
    "    plot.plot(fpr, tpr, label=label);\n",
    "    plot.xlabel('False Positive'); plot.ylabel('True Positive'); plot.title(title)\n",
    "    plot.legend(bbox_to_anchor=(1, 1), loc=2); plot.xlim([0.0, 1.0]); plot.ylim([0.0, 1]);\n",
    "    print ('Logistic Regression ', label, ' AUC = ', metrics.auc(fpr, tpr))"
   ]
  },
  {
   "cell_type": "code",
   "execution_count": 25,
   "metadata": {},
   "outputs": [
    {
     "name": "stdout",
     "output_type": "stream",
     "text": [
      "Logistic Regression  ?  AUC =  0.9929230745302806\n"
     ]
    },
    {
     "data": {
      "image/png": "[encoded data removed]",
      "text/plain": [
       "<matplotlib.figure.Figure at 0x22286960550>"
      ]
     },
     "metadata": {},
     "output_type": "display_data"
    }
   ],
   "source": [
    "roc_curve('log reg, ROC', Y_test, predict)"
   ]
  },
  {
   "cell_type": "code",
   "execution_count": 26,
   "metadata": {},
   "outputs": [],
   "source": [
    "predict_pr = model.predict_proba(matrix_count[200000:])"
   ]
  },
  {
   "cell_type": "code",
   "execution_count": 27,
   "metadata": {},
   "outputs": [],
   "source": [
    "df_sub = pd.read_csv('sampleSubmission.csv', delimiter=',', encoding='utf8', index_col='id')"
   ]
  },
  {
   "cell_type": "code",
   "execution_count": 28,
   "metadata": {},
   "outputs": [],
   "source": [
    "df_sub['target'] = predict_pr[:,1] "
   ]
  },
  {
   "cell_type": "code",
   "execution_count": 29,
   "metadata": {},
   "outputs": [
    {
     "data": {
      "text/html": [
       "<div>\n",
       "<style scoped>\n",
       "    .dataframe tbody tr th:only-of-type {\n",
       "        vertical-align: middle;\n",
       "    }\n",
       "\n",
       "    .dataframe tbody tr th {\n",
       "        vertical-align: top;\n",
       "    }\n",
       "\n",
       "    .dataframe thead th {\n",
       "        text-align: right;\n",
       "    }\n",
       "</style>\n",
       "<table border=\"1\" class=\"dataframe\">\n",
       "  <thead>\n",
       "    <tr style=\"text-align: right;\">\n",
       "      <th></th>\n",
       "      <th>target</th>\n",
       "    </tr>\n",
       "    <tr>\n",
       "      <th>id</th>\n",
       "      <th></th>\n",
       "    </tr>\n",
       "  </thead>\n",
       "  <tbody>\n",
       "    <tr>\n",
       "      <th>200000</th>\n",
       "      <td>0.963199</td>\n",
       "    </tr>\n",
       "    <tr>\n",
       "      <th>200001</th>\n",
       "      <td>0.997907</td>\n",
       "    </tr>\n",
       "    <tr>\n",
       "      <th>200002</th>\n",
       "      <td>0.979693</td>\n",
       "    </tr>\n",
       "    <tr>\n",
       "      <th>200003</th>\n",
       "      <td>0.998017</td>\n",
       "    </tr>\n",
       "    <tr>\n",
       "      <th>200004</th>\n",
       "      <td>0.008344</td>\n",
       "    </tr>\n",
       "    <tr>\n",
       "      <th>200005</th>\n",
       "      <td>0.072169</td>\n",
       "    </tr>\n",
       "    <tr>\n",
       "      <th>200006</th>\n",
       "      <td>0.998484</td>\n",
       "    </tr>\n",
       "    <tr>\n",
       "      <th>200007</th>\n",
       "      <td>0.082735</td>\n",
       "    </tr>\n",
       "    <tr>\n",
       "      <th>200008</th>\n",
       "      <td>0.022789</td>\n",
       "    </tr>\n",
       "    <tr>\n",
       "      <th>200009</th>\n",
       "      <td>0.006231</td>\n",
       "    </tr>\n",
       "    <tr>\n",
       "      <th>200010</th>\n",
       "      <td>0.948080</td>\n",
       "    </tr>\n",
       "    <tr>\n",
       "      <th>200011</th>\n",
       "      <td>0.956523</td>\n",
       "    </tr>\n",
       "    <tr>\n",
       "      <th>200012</th>\n",
       "      <td>0.008606</td>\n",
       "    </tr>\n",
       "    <tr>\n",
       "      <th>200013</th>\n",
       "      <td>0.998129</td>\n",
       "    </tr>\n",
       "    <tr>\n",
       "      <th>200014</th>\n",
       "      <td>0.832779</td>\n",
       "    </tr>\n",
       "    <tr>\n",
       "      <th>200015</th>\n",
       "      <td>0.999268</td>\n",
       "    </tr>\n",
       "    <tr>\n",
       "      <th>200016</th>\n",
       "      <td>0.053463</td>\n",
       "    </tr>\n",
       "    <tr>\n",
       "      <th>200017</th>\n",
       "      <td>0.894117</td>\n",
       "    </tr>\n",
       "    <tr>\n",
       "      <th>200018</th>\n",
       "      <td>0.241524</td>\n",
       "    </tr>\n",
       "    <tr>\n",
       "      <th>200019</th>\n",
       "      <td>0.997397</td>\n",
       "    </tr>\n",
       "    <tr>\n",
       "      <th>200020</th>\n",
       "      <td>0.992136</td>\n",
       "    </tr>\n",
       "    <tr>\n",
       "      <th>200021</th>\n",
       "      <td>0.998986</td>\n",
       "    </tr>\n",
       "    <tr>\n",
       "      <th>200022</th>\n",
       "      <td>0.958500</td>\n",
       "    </tr>\n",
       "    <tr>\n",
       "      <th>200023</th>\n",
       "      <td>0.944285</td>\n",
       "    </tr>\n",
       "    <tr>\n",
       "      <th>200024</th>\n",
       "      <td>0.985576</td>\n",
       "    </tr>\n",
       "    <tr>\n",
       "      <th>200025</th>\n",
       "      <td>0.920281</td>\n",
       "    </tr>\n",
       "    <tr>\n",
       "      <th>200026</th>\n",
       "      <td>0.989299</td>\n",
       "    </tr>\n",
       "    <tr>\n",
       "      <th>200027</th>\n",
       "      <td>0.009749</td>\n",
       "    </tr>\n",
       "    <tr>\n",
       "      <th>200028</th>\n",
       "      <td>0.009721</td>\n",
       "    </tr>\n",
       "    <tr>\n",
       "      <th>200029</th>\n",
       "      <td>0.971821</td>\n",
       "    </tr>\n",
       "    <tr>\n",
       "      <th>200030</th>\n",
       "      <td>0.115728</td>\n",
       "    </tr>\n",
       "    <tr>\n",
       "      <th>200031</th>\n",
       "      <td>0.981786</td>\n",
       "    </tr>\n",
       "    <tr>\n",
       "      <th>200032</th>\n",
       "      <td>0.901868</td>\n",
       "    </tr>\n",
       "    <tr>\n",
       "      <th>200033</th>\n",
       "      <td>0.967574</td>\n",
       "    </tr>\n",
       "    <tr>\n",
       "      <th>200034</th>\n",
       "      <td>0.002096</td>\n",
       "    </tr>\n",
       "    <tr>\n",
       "      <th>200035</th>\n",
       "      <td>0.003631</td>\n",
       "    </tr>\n",
       "    <tr>\n",
       "      <th>200036</th>\n",
       "      <td>0.160031</td>\n",
       "    </tr>\n",
       "    <tr>\n",
       "      <th>200037</th>\n",
       "      <td>0.135142</td>\n",
       "    </tr>\n",
       "    <tr>\n",
       "      <th>200038</th>\n",
       "      <td>0.009721</td>\n",
       "    </tr>\n",
       "    <tr>\n",
       "      <th>200039</th>\n",
       "      <td>0.030364</td>\n",
       "    </tr>\n",
       "    <tr>\n",
       "      <th>200040</th>\n",
       "      <td>0.003678</td>\n",
       "    </tr>\n",
       "    <tr>\n",
       "      <th>200041</th>\n",
       "      <td>0.004321</td>\n",
       "    </tr>\n",
       "    <tr>\n",
       "      <th>200042</th>\n",
       "      <td>0.971547</td>\n",
       "    </tr>\n",
       "    <tr>\n",
       "      <th>200043</th>\n",
       "      <td>0.000898</td>\n",
       "    </tr>\n",
       "    <tr>\n",
       "      <th>200044</th>\n",
       "      <td>0.881634</td>\n",
       "    </tr>\n",
       "    <tr>\n",
       "      <th>200045</th>\n",
       "      <td>0.952954</td>\n",
       "    </tr>\n",
       "    <tr>\n",
       "      <th>200046</th>\n",
       "      <td>0.955856</td>\n",
       "    </tr>\n",
       "    <tr>\n",
       "      <th>200047</th>\n",
       "      <td>0.987094</td>\n",
       "    </tr>\n",
       "    <tr>\n",
       "      <th>200048</th>\n",
       "      <td>0.097896</td>\n",
       "    </tr>\n",
       "    <tr>\n",
       "      <th>200049</th>\n",
       "      <td>0.002071</td>\n",
       "    </tr>\n",
       "  </tbody>\n",
       "</table>\n",
       "</div>"
      ],
      "text/plain": [
       "          target\n",
       "id              \n",
       "200000  0.963199\n",
       "200001  0.997907\n",
       "200002  0.979693\n",
       "200003  0.998017\n",
       "200004  0.008344\n",
       "200005  0.072169\n",
       "200006  0.998484\n",
       "200007  0.082735\n",
       "200008  0.022789\n",
       "200009  0.006231\n",
       "200010  0.948080\n",
       "200011  0.956523\n",
       "200012  0.008606\n",
       "200013  0.998129\n",
       "200014  0.832779\n",
       "200015  0.999268\n",
       "200016  0.053463\n",
       "200017  0.894117\n",
       "200018  0.241524\n",
       "200019  0.997397\n",
       "200020  0.992136\n",
       "200021  0.998986\n",
       "200022  0.958500\n",
       "200023  0.944285\n",
       "200024  0.985576\n",
       "200025  0.920281\n",
       "200026  0.989299\n",
       "200027  0.009749\n",
       "200028  0.009721\n",
       "200029  0.971821\n",
       "200030  0.115728\n",
       "200031  0.981786\n",
       "200032  0.901868\n",
       "200033  0.967574\n",
       "200034  0.002096\n",
       "200035  0.003631\n",
       "200036  0.160031\n",
       "200037  0.135142\n",
       "200038  0.009721\n",
       "200039  0.030364\n",
       "200040  0.003678\n",
       "200041  0.004321\n",
       "200042  0.971547\n",
       "200043  0.000898\n",
       "200044  0.881634\n",
       "200045  0.952954\n",
       "200046  0.955856\n",
       "200047  0.987094\n",
       "200048  0.097896\n",
       "200049  0.002071"
      ]
     },
     "execution_count": 29,
     "metadata": {},
     "output_type": "execute_result"
    }
   ],
   "source": [
    "df_sub.head(50)"
   ]
  },
  {
   "cell_type": "code",
   "execution_count": 28,
   "metadata": {},
   "outputs": [],
   "source": [
    "pd.DataFrame(df_sub['target']).to_csv('sampleSubmissionBest.csv')"
   ]
  },
  {
   "cell_type": "code",
   "execution_count": null,
   "metadata": {},
   "outputs": [],
   "source": []
  }
 ],
 "metadata": {
  "kernelspec": {
   "display_name": "Python 3",
   "language": "python",
   "name": "python3"
  },
  "language_info": {
   "codemirror_mode": {
    "name": "ipython",
    "version": 3
   },
   "file_extension": ".py",
   "mimetype": "text/x-python",
   "name": "python",
   "nbconvert_exporter": "python",
   "pygments_lexer": "ipython3",
   "version": "3.6.4"
  }
 },
 "nbformat": 4,
 "nbformat_minor": 2
}

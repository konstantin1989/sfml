{
 "cells": [
  {
   "cell_type": "code",
   "execution_count": 1,
   "metadata": {},
   "outputs": [],
   "source": [
    "# team02\n",
    "\n",
    "import pandas as pd\n",
    "import matplotlib.pyplot as plt\n",
    "\n",
    "%matplotlib inline"
   ]
  },
  {
   "cell_type": "code",
   "execution_count": 2,
   "metadata": {},
   "outputs": [],
   "source": [
    "df_train = pd.read_csv('train.csv', sep=',', encoding='utf8', index_col='_id')\n",
    "df_test =  pd.read_csv('test.csv', sep=',', encoding='utf8', index_col='_id')\n",
    "df_sample =  pd.read_csv('sample_submission.csv', sep=',', encoding='utf8', index_col='_id')\n",
    "#обрабатывать параметры надо на трейн и тест сразу\n",
    "\n",
    "\n",
    "#план выбора модели:\n",
    "# 1) преобразовать все параметры в числовой формат\n",
    "# 2) построить 3 модели на этих данных и посмотреть roc-auc и другие метрики качества\n",
    "# 3) посмотреть коэфициенты по логистической регрессии\n",
    "# 4) выкинуть те фичи, где около нуля коэфициенты # подход не сработал. В итоге выкидывал последовательно все фичи, искал те, после исключения которых падает сильно качество модели. В итоге оставил 5.\n",
    "# 5) заново построить 3 модели на этих данных и посмотреть roc-auc и другие метрики качества\n",
    "# 6) попробовать построить свои предположения по тому, как обработать параметры\n",
    "# 7) заново построить 3 модели на этих данных и посмотреть roc-auc и другие метрики качества"
   ]
  },
  {
   "cell_type": "code",
   "execution_count": 3,
   "metadata": {},
   "outputs": [
    {
     "data": {
      "text/plain": [
       "(16476, 20)"
      ]
     },
     "execution_count": 3,
     "metadata": {},
     "output_type": "execute_result"
    }
   ],
   "source": [
    "df_test.shape"
   ]
  },
  {
   "cell_type": "code",
   "execution_count": 4,
   "metadata": {},
   "outputs": [
    {
     "data": {
      "text/html": [
       "<div>\n",
       "<style scoped>\n",
       "    .dataframe tbody tr th:only-of-type {\n",
       "        vertical-align: middle;\n",
       "    }\n",
       "\n",
       "    .dataframe tbody tr th {\n",
       "        vertical-align: top;\n",
       "    }\n",
       "\n",
       "    .dataframe thead th {\n",
       "        text-align: right;\n",
       "    }\n",
       "</style>\n",
       "<table border=\"1\" class=\"dataframe\">\n",
       "  <thead>\n",
       "    <tr style=\"text-align: right;\">\n",
       "      <th></th>\n",
       "      <th>target</th>\n",
       "    </tr>\n",
       "    <tr>\n",
       "      <th>_id</th>\n",
       "      <th></th>\n",
       "    </tr>\n",
       "  </thead>\n",
       "  <tbody>\n",
       "    <tr>\n",
       "      <th>66810d8e6bf2b41c880a7bc6c8a1e295</th>\n",
       "      <td>0.066375</td>\n",
       "    </tr>\n",
       "    <tr>\n",
       "      <th>ccac3879652b08cb8b44c1920fd93afa</th>\n",
       "      <td>0.010286</td>\n",
       "    </tr>\n",
       "    <tr>\n",
       "      <th>fcccab4d7a76f70647f015f2c84c2af8</th>\n",
       "      <td>0.015206</td>\n",
       "    </tr>\n",
       "    <tr>\n",
       "      <th>ed8399278c30678dab739045fa12b440</th>\n",
       "      <td>0.035821</td>\n",
       "    </tr>\n",
       "    <tr>\n",
       "      <th>1d4d62ac5cabcb48bac7112813f290cb</th>\n",
       "      <td>0.019478</td>\n",
       "    </tr>\n",
       "  </tbody>\n",
       "</table>\n",
       "</div>"
      ],
      "text/plain": [
       "                                    target\n",
       "_id                                       \n",
       "66810d8e6bf2b41c880a7bc6c8a1e295  0.066375\n",
       "ccac3879652b08cb8b44c1920fd93afa  0.010286\n",
       "fcccab4d7a76f70647f015f2c84c2af8  0.015206\n",
       "ed8399278c30678dab739045fa12b440  0.035821\n",
       "1d4d62ac5cabcb48bac7112813f290cb  0.019478"
      ]
     },
     "execution_count": 4,
     "metadata": {},
     "output_type": "execute_result"
    }
   ],
   "source": [
    "df_sample.head()"
   ]
  },
  {
   "cell_type": "code",
   "execution_count": 5,
   "metadata": {},
   "outputs": [],
   "source": [
    "train_target = pd.DataFrame(df_train['target'])\n",
    "df_train = df_train.drop(['target'], axis=1)"
   ]
  },
  {
   "cell_type": "code",
   "execution_count": 6,
   "metadata": {},
   "outputs": [
    {
     "name": "stdout",
     "output_type": "stream",
     "text": [
      "(24712, 20)\n",
      "(16476, 20)\n",
      "(24712, 1)\n",
      "(16476, 1)\n"
     ]
    }
   ],
   "source": [
    "print(df_train.shape)\n",
    "print(df_test.shape)\n",
    "print(train_target.shape)\n",
    "print(df_sample.shape)"
   ]
  },
  {
   "cell_type": "code",
   "execution_count": 7,
   "metadata": {},
   "outputs": [
    {
     "data": {
      "text/plain": [
       "pandas.core.series.Series"
      ]
     },
     "execution_count": 7,
     "metadata": {},
     "output_type": "execute_result"
    }
   ],
   "source": [
    "type(df_sample['target'])"
   ]
  },
  {
   "cell_type": "code",
   "execution_count": 8,
   "metadata": {},
   "outputs": [
    {
     "data": {
      "text/plain": [
       "array([ True,  True,  True,  True,  True,  True,  True,  True,  True,\n",
       "        True,  True,  True,  True,  True,  True,  True,  True,  True,\n",
       "        True,  True])"
      ]
     },
     "execution_count": 8,
     "metadata": {},
     "output_type": "execute_result"
    }
   ],
   "source": [
    "df_train.columns == df_test.columns"
   ]
  },
  {
   "cell_type": "code",
   "execution_count": 9,
   "metadata": {},
   "outputs": [],
   "source": [
    "df_train.loc[:, 'sample'] = 'train'\n",
    "df_test.loc[:, 'sample'] = 'test'"
   ]
  },
  {
   "cell_type": "code",
   "execution_count": 10,
   "metadata": {},
   "outputs": [
    {
     "data": {
      "text/html": [
       "<div>\n",
       "<style scoped>\n",
       "    .dataframe tbody tr th:only-of-type {\n",
       "        vertical-align: middle;\n",
       "    }\n",
       "\n",
       "    .dataframe tbody tr th {\n",
       "        vertical-align: top;\n",
       "    }\n",
       "\n",
       "    .dataframe thead th {\n",
       "        text-align: right;\n",
       "    }\n",
       "</style>\n",
       "<table border=\"1\" class=\"dataframe\">\n",
       "  <thead>\n",
       "    <tr style=\"text-align: right;\">\n",
       "      <th></th>\n",
       "      <th>age</th>\n",
       "      <th>job</th>\n",
       "      <th>marital</th>\n",
       "      <th>education</th>\n",
       "      <th>default</th>\n",
       "      <th>housing</th>\n",
       "      <th>loan</th>\n",
       "      <th>contact</th>\n",
       "      <th>month</th>\n",
       "      <th>day_of_week</th>\n",
       "      <th>...</th>\n",
       "      <th>campaign</th>\n",
       "      <th>pdays</th>\n",
       "      <th>previous</th>\n",
       "      <th>poutcome</th>\n",
       "      <th>emp.var.rate</th>\n",
       "      <th>cons.price.idx</th>\n",
       "      <th>cons.conf.idx</th>\n",
       "      <th>euribor3m</th>\n",
       "      <th>nr.employed</th>\n",
       "      <th>sample</th>\n",
       "    </tr>\n",
       "    <tr>\n",
       "      <th>_id</th>\n",
       "      <th></th>\n",
       "      <th></th>\n",
       "      <th></th>\n",
       "      <th></th>\n",
       "      <th></th>\n",
       "      <th></th>\n",
       "      <th></th>\n",
       "      <th></th>\n",
       "      <th></th>\n",
       "      <th></th>\n",
       "      <th></th>\n",
       "      <th></th>\n",
       "      <th></th>\n",
       "      <th></th>\n",
       "      <th></th>\n",
       "      <th></th>\n",
       "      <th></th>\n",
       "      <th></th>\n",
       "      <th></th>\n",
       "      <th></th>\n",
       "      <th></th>\n",
       "    </tr>\n",
       "  </thead>\n",
       "  <tbody>\n",
       "    <tr>\n",
       "      <th>66810d8e6bf2b41c880a7bc6c8a1e295</th>\n",
       "      <td>57</td>\n",
       "      <td>technician</td>\n",
       "      <td>married</td>\n",
       "      <td>high.school</td>\n",
       "      <td>no</td>\n",
       "      <td>no</td>\n",
       "      <td>yes</td>\n",
       "      <td>cellular</td>\n",
       "      <td>may</td>\n",
       "      <td>mon</td>\n",
       "      <td>...</td>\n",
       "      <td>1</td>\n",
       "      <td>999</td>\n",
       "      <td>1</td>\n",
       "      <td>failure</td>\n",
       "      <td>-1.8</td>\n",
       "      <td>92.893</td>\n",
       "      <td>-46.2</td>\n",
       "      <td>1.299</td>\n",
       "      <td>5099.1</td>\n",
       "      <td>test</td>\n",
       "    </tr>\n",
       "    <tr>\n",
       "      <th>ccac3879652b08cb8b44c1920fd93afa</th>\n",
       "      <td>55</td>\n",
       "      <td>unknown</td>\n",
       "      <td>married</td>\n",
       "      <td>unknown</td>\n",
       "      <td>unknown</td>\n",
       "      <td>yes</td>\n",
       "      <td>no</td>\n",
       "      <td>telephone</td>\n",
       "      <td>may</td>\n",
       "      <td>thu</td>\n",
       "      <td>...</td>\n",
       "      <td>2</td>\n",
       "      <td>999</td>\n",
       "      <td>0</td>\n",
       "      <td>nonexistent</td>\n",
       "      <td>1.1</td>\n",
       "      <td>93.994</td>\n",
       "      <td>-36.4</td>\n",
       "      <td>4.860</td>\n",
       "      <td>5191.0</td>\n",
       "      <td>test</td>\n",
       "    </tr>\n",
       "    <tr>\n",
       "      <th>fcccab4d7a76f70647f015f2c84c2af8</th>\n",
       "      <td>33</td>\n",
       "      <td>blue-collar</td>\n",
       "      <td>married</td>\n",
       "      <td>basic.9y</td>\n",
       "      <td>no</td>\n",
       "      <td>no</td>\n",
       "      <td>no</td>\n",
       "      <td>cellular</td>\n",
       "      <td>may</td>\n",
       "      <td>fri</td>\n",
       "      <td>...</td>\n",
       "      <td>1</td>\n",
       "      <td>999</td>\n",
       "      <td>1</td>\n",
       "      <td>failure</td>\n",
       "      <td>-1.8</td>\n",
       "      <td>92.893</td>\n",
       "      <td>-46.2</td>\n",
       "      <td>1.313</td>\n",
       "      <td>5099.1</td>\n",
       "      <td>test</td>\n",
       "    </tr>\n",
       "    <tr>\n",
       "      <th>ed8399278c30678dab739045fa12b440</th>\n",
       "      <td>36</td>\n",
       "      <td>admin.</td>\n",
       "      <td>married</td>\n",
       "      <td>high.school</td>\n",
       "      <td>no</td>\n",
       "      <td>no</td>\n",
       "      <td>no</td>\n",
       "      <td>telephone</td>\n",
       "      <td>jun</td>\n",
       "      <td>fri</td>\n",
       "      <td>...</td>\n",
       "      <td>4</td>\n",
       "      <td>999</td>\n",
       "      <td>0</td>\n",
       "      <td>nonexistent</td>\n",
       "      <td>1.4</td>\n",
       "      <td>94.465</td>\n",
       "      <td>-41.8</td>\n",
       "      <td>4.967</td>\n",
       "      <td>5228.1</td>\n",
       "      <td>test</td>\n",
       "    </tr>\n",
       "    <tr>\n",
       "      <th>1d4d62ac5cabcb48bac7112813f290cb</th>\n",
       "      <td>27</td>\n",
       "      <td>housemaid</td>\n",
       "      <td>married</td>\n",
       "      <td>high.school</td>\n",
       "      <td>no</td>\n",
       "      <td>yes</td>\n",
       "      <td>no</td>\n",
       "      <td>cellular</td>\n",
       "      <td>jul</td>\n",
       "      <td>fri</td>\n",
       "      <td>...</td>\n",
       "      <td>2</td>\n",
       "      <td>999</td>\n",
       "      <td>0</td>\n",
       "      <td>nonexistent</td>\n",
       "      <td>1.4</td>\n",
       "      <td>93.918</td>\n",
       "      <td>-42.7</td>\n",
       "      <td>4.963</td>\n",
       "      <td>5228.1</td>\n",
       "      <td>test</td>\n",
       "    </tr>\n",
       "  </tbody>\n",
       "</table>\n",
       "<p>5 rows × 21 columns</p>\n",
       "</div>"
      ],
      "text/plain": [
       "                                  age          job  marital    education  \\\n",
       "_id                                                                        \n",
       "66810d8e6bf2b41c880a7bc6c8a1e295   57   technician  married  high.school   \n",
       "ccac3879652b08cb8b44c1920fd93afa   55      unknown  married      unknown   \n",
       "fcccab4d7a76f70647f015f2c84c2af8   33  blue-collar  married     basic.9y   \n",
       "ed8399278c30678dab739045fa12b440   36       admin.  married  high.school   \n",
       "1d4d62ac5cabcb48bac7112813f290cb   27    housemaid  married  high.school   \n",
       "\n",
       "                                  default housing loan    contact month  \\\n",
       "_id                                                                       \n",
       "66810d8e6bf2b41c880a7bc6c8a1e295       no      no  yes   cellular   may   \n",
       "ccac3879652b08cb8b44c1920fd93afa  unknown     yes   no  telephone   may   \n",
       "fcccab4d7a76f70647f015f2c84c2af8       no      no   no   cellular   may   \n",
       "ed8399278c30678dab739045fa12b440       no      no   no  telephone   jun   \n",
       "1d4d62ac5cabcb48bac7112813f290cb       no     yes   no   cellular   jul   \n",
       "\n",
       "                                 day_of_week   ...    campaign  pdays  \\\n",
       "_id                                            ...                      \n",
       "66810d8e6bf2b41c880a7bc6c8a1e295         mon   ...           1    999   \n",
       "ccac3879652b08cb8b44c1920fd93afa         thu   ...           2    999   \n",
       "fcccab4d7a76f70647f015f2c84c2af8         fri   ...           1    999   \n",
       "ed8399278c30678dab739045fa12b440         fri   ...           4    999   \n",
       "1d4d62ac5cabcb48bac7112813f290cb         fri   ...           2    999   \n",
       "\n",
       "                                  previous     poutcome emp.var.rate  \\\n",
       "_id                                                                    \n",
       "66810d8e6bf2b41c880a7bc6c8a1e295         1      failure         -1.8   \n",
       "ccac3879652b08cb8b44c1920fd93afa         0  nonexistent          1.1   \n",
       "fcccab4d7a76f70647f015f2c84c2af8         1      failure         -1.8   \n",
       "ed8399278c30678dab739045fa12b440         0  nonexistent          1.4   \n",
       "1d4d62ac5cabcb48bac7112813f290cb         0  nonexistent          1.4   \n",
       "\n",
       "                                  cons.price.idx  cons.conf.idx  euribor3m  \\\n",
       "_id                                                                          \n",
       "66810d8e6bf2b41c880a7bc6c8a1e295          92.893          -46.2      1.299   \n",
       "ccac3879652b08cb8b44c1920fd93afa          93.994          -36.4      4.860   \n",
       "fcccab4d7a76f70647f015f2c84c2af8          92.893          -46.2      1.313   \n",
       "ed8399278c30678dab739045fa12b440          94.465          -41.8      4.967   \n",
       "1d4d62ac5cabcb48bac7112813f290cb          93.918          -42.7      4.963   \n",
       "\n",
       "                                  nr.employed  sample  \n",
       "_id                                                    \n",
       "66810d8e6bf2b41c880a7bc6c8a1e295       5099.1    test  \n",
       "ccac3879652b08cb8b44c1920fd93afa       5191.0    test  \n",
       "fcccab4d7a76f70647f015f2c84c2af8       5099.1    test  \n",
       "ed8399278c30678dab739045fa12b440       5228.1    test  \n",
       "1d4d62ac5cabcb48bac7112813f290cb       5228.1    test  \n",
       "\n",
       "[5 rows x 21 columns]"
      ]
     },
     "execution_count": 10,
     "metadata": {},
     "output_type": "execute_result"
    }
   ],
   "source": [
    "df_test.head()"
   ]
  },
  {
   "cell_type": "code",
   "execution_count": 11,
   "metadata": {},
   "outputs": [],
   "source": [
    "df = df_test.append(df_train)"
   ]
  },
  {
   "cell_type": "code",
   "execution_count": 12,
   "metadata": {},
   "outputs": [
    {
     "data": {
      "text/plain": [
       "(41188, 21)"
      ]
     },
     "execution_count": 12,
     "metadata": {},
     "output_type": "execute_result"
    }
   ],
   "source": [
    "df.shape"
   ]
  },
  {
   "cell_type": "markdown",
   "metadata": {},
   "source": [
    "# тестируем скинуть данные\n",
    "df_for_model = df.drop([\n",
    "'month',\n",
    "'day_of_week',\n",
    "'education',\n",
    "'job',\n",
    "'poutcome',\n",
    "'marital',\n",
    "'default',\n",
    "'contact',\n",
    "'housing',\n",
    "'loan',\n",
    "'euribor3m',\n",
    "'campaign',\n",
    "'previous',\n",
    "'cons.price.idx',\n",
    "'emp.var.rate'], axis=1)"
   ]
  },
  {
   "cell_type": "code",
   "execution_count": 13,
   "metadata": {},
   "outputs": [],
   "source": [
    "#df_for_model = pd.get_dummies(df, columns=[\n",
    "#'job',\n",
    "#'marital',\n",
    "#'education',\n",
    "#'default',\n",
    "#'housing',\n",
    "#'loan',\n",
    "#'contact',\n",
    "#'month',\n",
    "#'day_of_week',\n",
    "#'poutcome'])\n",
    "\n",
    "#!!!!!!!!!самые важны фичи!!!!!!!!!!!!!!!\n",
    "#euribor3m\n",
    "#duration\n",
    "#emp.var.rate\n",
    "#cons.price.idx"
   ]
  },
  {
   "cell_type": "code",
   "execution_count": 14,
   "metadata": {},
   "outputs": [],
   "source": [
    "df_for_model = df.drop(['month', 'day_of_week', 'education', 'job', 'poutcome', 'marital', 'default', 'contact', 'housing', 'loan', 'campaign', 'previous','age','nr.employed'], axis=1)"
   ]
  },
  {
   "cell_type": "code",
   "execution_count": 25,
   "metadata": {},
   "outputs": [
    {
     "name": "stdout",
     "output_type": "stream",
     "text": [
      "<class 'pandas.core.frame.DataFrame'>\n",
      "Index: 41188 entries, 66810d8e6bf2b41c880a7bc6c8a1e295 to 46d0d25dfd1def79632dd437261d0b5c\n",
      "Data columns (total 7 columns):\n",
      "duration          41188 non-null int64\n",
      "pdays             41188 non-null int64\n",
      "emp.var.rate      41188 non-null float64\n",
      "cons.price.idx    41188 non-null float64\n",
      "cons.conf.idx     41188 non-null float64\n",
      "euribor3m         41188 non-null float64\n",
      "sample            41188 non-null object\n",
      "dtypes: float64(4), int64(2), object(1)\n",
      "memory usage: 3.8+ MB\n"
     ]
    }
   ],
   "source": [
    "df_for_model.info()"
   ]
  },
  {
   "cell_type": "code",
   "execution_count": 16,
   "metadata": {},
   "outputs": [
    {
     "data": {
      "text/html": [
       "<div>\n",
       "<style scoped>\n",
       "    .dataframe tbody tr th:only-of-type {\n",
       "        vertical-align: middle;\n",
       "    }\n",
       "\n",
       "    .dataframe tbody tr th {\n",
       "        vertical-align: top;\n",
       "    }\n",
       "\n",
       "    .dataframe thead th {\n",
       "        text-align: right;\n",
       "    }\n",
       "</style>\n",
       "<table border=\"1\" class=\"dataframe\">\n",
       "  <thead>\n",
       "    <tr style=\"text-align: right;\">\n",
       "      <th></th>\n",
       "      <th>duration</th>\n",
       "      <th>pdays</th>\n",
       "      <th>emp.var.rate</th>\n",
       "      <th>cons.price.idx</th>\n",
       "      <th>cons.conf.idx</th>\n",
       "      <th>euribor3m</th>\n",
       "      <th>sample</th>\n",
       "    </tr>\n",
       "    <tr>\n",
       "      <th>_id</th>\n",
       "      <th></th>\n",
       "      <th></th>\n",
       "      <th></th>\n",
       "      <th></th>\n",
       "      <th></th>\n",
       "      <th></th>\n",
       "      <th></th>\n",
       "    </tr>\n",
       "  </thead>\n",
       "  <tbody>\n",
       "    <tr>\n",
       "      <th>66810d8e6bf2b41c880a7bc6c8a1e295</th>\n",
       "      <td>371</td>\n",
       "      <td>999</td>\n",
       "      <td>-1.8</td>\n",
       "      <td>92.893</td>\n",
       "      <td>-46.2</td>\n",
       "      <td>1.299</td>\n",
       "      <td>test</td>\n",
       "    </tr>\n",
       "    <tr>\n",
       "      <th>ccac3879652b08cb8b44c1920fd93afa</th>\n",
       "      <td>285</td>\n",
       "      <td>999</td>\n",
       "      <td>1.1</td>\n",
       "      <td>93.994</td>\n",
       "      <td>-36.4</td>\n",
       "      <td>4.860</td>\n",
       "      <td>test</td>\n",
       "    </tr>\n",
       "    <tr>\n",
       "      <th>fcccab4d7a76f70647f015f2c84c2af8</th>\n",
       "      <td>52</td>\n",
       "      <td>999</td>\n",
       "      <td>-1.8</td>\n",
       "      <td>92.893</td>\n",
       "      <td>-46.2</td>\n",
       "      <td>1.313</td>\n",
       "      <td>test</td>\n",
       "    </tr>\n",
       "    <tr>\n",
       "      <th>ed8399278c30678dab739045fa12b440</th>\n",
       "      <td>355</td>\n",
       "      <td>999</td>\n",
       "      <td>1.4</td>\n",
       "      <td>94.465</td>\n",
       "      <td>-41.8</td>\n",
       "      <td>4.967</td>\n",
       "      <td>test</td>\n",
       "    </tr>\n",
       "    <tr>\n",
       "      <th>1d4d62ac5cabcb48bac7112813f290cb</th>\n",
       "      <td>189</td>\n",
       "      <td>999</td>\n",
       "      <td>1.4</td>\n",
       "      <td>93.918</td>\n",
       "      <td>-42.7</td>\n",
       "      <td>4.963</td>\n",
       "      <td>test</td>\n",
       "    </tr>\n",
       "    <tr>\n",
       "      <th>aba2dec4c5cab88824f36babd24b986f</th>\n",
       "      <td>605</td>\n",
       "      <td>999</td>\n",
       "      <td>1.4</td>\n",
       "      <td>93.918</td>\n",
       "      <td>-42.7</td>\n",
       "      <td>4.962</td>\n",
       "      <td>test</td>\n",
       "    </tr>\n",
       "    <tr>\n",
       "      <th>06f318f1dd178e738f675bb88a5adb84</th>\n",
       "      <td>243</td>\n",
       "      <td>999</td>\n",
       "      <td>1.1</td>\n",
       "      <td>93.994</td>\n",
       "      <td>-36.4</td>\n",
       "      <td>4.856</td>\n",
       "      <td>test</td>\n",
       "    </tr>\n",
       "    <tr>\n",
       "      <th>d5036f5956e42ee6207296238fc4bc1d</th>\n",
       "      <td>24</td>\n",
       "      <td>999</td>\n",
       "      <td>1.4</td>\n",
       "      <td>93.444</td>\n",
       "      <td>-36.1</td>\n",
       "      <td>4.962</td>\n",
       "      <td>test</td>\n",
       "    </tr>\n",
       "    <tr>\n",
       "      <th>fe0cc8933698ad4046ff2b82f65756eb</th>\n",
       "      <td>126</td>\n",
       "      <td>999</td>\n",
       "      <td>1.4</td>\n",
       "      <td>94.465</td>\n",
       "      <td>-41.8</td>\n",
       "      <td>4.962</td>\n",
       "      <td>test</td>\n",
       "    </tr>\n",
       "    <tr>\n",
       "      <th>70190122f4ebf196535e11b33eb95b81</th>\n",
       "      <td>43</td>\n",
       "      <td>999</td>\n",
       "      <td>1.4</td>\n",
       "      <td>93.918</td>\n",
       "      <td>-42.7</td>\n",
       "      <td>4.962</td>\n",
       "      <td>test</td>\n",
       "    </tr>\n",
       "    <tr>\n",
       "      <th>8c2e044ac444afd4d0dea67eba0079c4</th>\n",
       "      <td>451</td>\n",
       "      <td>999</td>\n",
       "      <td>-1.8</td>\n",
       "      <td>92.893</td>\n",
       "      <td>-46.2</td>\n",
       "      <td>1.313</td>\n",
       "      <td>test</td>\n",
       "    </tr>\n",
       "    <tr>\n",
       "      <th>0d7db1117ed3606d7bbbb65d584b5c2f</th>\n",
       "      <td>560</td>\n",
       "      <td>999</td>\n",
       "      <td>-1.8</td>\n",
       "      <td>92.893</td>\n",
       "      <td>-46.2</td>\n",
       "      <td>1.327</td>\n",
       "      <td>test</td>\n",
       "    </tr>\n",
       "    <tr>\n",
       "      <th>aa3d1e4ba96323b5449a23cb54badc50</th>\n",
       "      <td>982</td>\n",
       "      <td>999</td>\n",
       "      <td>1.4</td>\n",
       "      <td>93.918</td>\n",
       "      <td>-42.7</td>\n",
       "      <td>4.963</td>\n",
       "      <td>test</td>\n",
       "    </tr>\n",
       "    <tr>\n",
       "      <th>d312d9b1ffdab785a806490ca0450f7b</th>\n",
       "      <td>552</td>\n",
       "      <td>999</td>\n",
       "      <td>1.4</td>\n",
       "      <td>93.444</td>\n",
       "      <td>-36.1</td>\n",
       "      <td>4.964</td>\n",
       "      <td>test</td>\n",
       "    </tr>\n",
       "    <tr>\n",
       "      <th>56da3f911d7cc5e8f47f2703b74bdc45</th>\n",
       "      <td>265</td>\n",
       "      <td>999</td>\n",
       "      <td>1.4</td>\n",
       "      <td>93.918</td>\n",
       "      <td>-42.7</td>\n",
       "      <td>4.962</td>\n",
       "      <td>test</td>\n",
       "    </tr>\n",
       "    <tr>\n",
       "      <th>19afb1a10078e901994a1e1e2c058652</th>\n",
       "      <td>171</td>\n",
       "      <td>999</td>\n",
       "      <td>1.4</td>\n",
       "      <td>94.465</td>\n",
       "      <td>-41.8</td>\n",
       "      <td>4.865</td>\n",
       "      <td>test</td>\n",
       "    </tr>\n",
       "    <tr>\n",
       "      <th>9ac0fc025e2f551a7d5214a606a77434</th>\n",
       "      <td>151</td>\n",
       "      <td>999</td>\n",
       "      <td>1.4</td>\n",
       "      <td>93.918</td>\n",
       "      <td>-42.7</td>\n",
       "      <td>4.963</td>\n",
       "      <td>test</td>\n",
       "    </tr>\n",
       "    <tr>\n",
       "      <th>4bc819b6f4ebbedca0fe354ba5dc7ba3</th>\n",
       "      <td>178</td>\n",
       "      <td>999</td>\n",
       "      <td>1.4</td>\n",
       "      <td>93.918</td>\n",
       "      <td>-42.7</td>\n",
       "      <td>4.961</td>\n",
       "      <td>test</td>\n",
       "    </tr>\n",
       "    <tr>\n",
       "      <th>1c02af75529cdaee5f8822a5251f5c63</th>\n",
       "      <td>92</td>\n",
       "      <td>999</td>\n",
       "      <td>1.4</td>\n",
       "      <td>93.918</td>\n",
       "      <td>-42.7</td>\n",
       "      <td>4.957</td>\n",
       "      <td>test</td>\n",
       "    </tr>\n",
       "    <tr>\n",
       "      <th>9d0424c7a80ebde8cc8b5520721592f2</th>\n",
       "      <td>399</td>\n",
       "      <td>999</td>\n",
       "      <td>-2.9</td>\n",
       "      <td>92.201</td>\n",
       "      <td>-31.4</td>\n",
       "      <td>0.873</td>\n",
       "      <td>test</td>\n",
       "    </tr>\n",
       "    <tr>\n",
       "      <th>cf005d4bc86312d5f1032e08ef342e05</th>\n",
       "      <td>1330</td>\n",
       "      <td>999</td>\n",
       "      <td>1.4</td>\n",
       "      <td>93.918</td>\n",
       "      <td>-42.7</td>\n",
       "      <td>4.962</td>\n",
       "      <td>test</td>\n",
       "    </tr>\n",
       "    <tr>\n",
       "      <th>6abe7bc6263ac81d7f6764c6b0489703</th>\n",
       "      <td>339</td>\n",
       "      <td>999</td>\n",
       "      <td>1.1</td>\n",
       "      <td>93.994</td>\n",
       "      <td>-36.4</td>\n",
       "      <td>4.855</td>\n",
       "      <td>test</td>\n",
       "    </tr>\n",
       "    <tr>\n",
       "      <th>b56ee107fc7abbabfa317f9209cbc5fd</th>\n",
       "      <td>524</td>\n",
       "      <td>999</td>\n",
       "      <td>1.4</td>\n",
       "      <td>94.465</td>\n",
       "      <td>-41.8</td>\n",
       "      <td>4.864</td>\n",
       "      <td>test</td>\n",
       "    </tr>\n",
       "    <tr>\n",
       "      <th>2fd2f7790cd8d0c638d55f41b1f323a2</th>\n",
       "      <td>101</td>\n",
       "      <td>999</td>\n",
       "      <td>1.4</td>\n",
       "      <td>93.918</td>\n",
       "      <td>-42.7</td>\n",
       "      <td>4.960</td>\n",
       "      <td>test</td>\n",
       "    </tr>\n",
       "    <tr>\n",
       "      <th>bd3b2a1af1abd0d48af835aa69848232</th>\n",
       "      <td>158</td>\n",
       "      <td>999</td>\n",
       "      <td>1.4</td>\n",
       "      <td>93.444</td>\n",
       "      <td>-36.1</td>\n",
       "      <td>4.965</td>\n",
       "      <td>test</td>\n",
       "    </tr>\n",
       "    <tr>\n",
       "      <th>d50372645903431bd7ceb57bbf1cea06</th>\n",
       "      <td>60</td>\n",
       "      <td>999</td>\n",
       "      <td>-2.9</td>\n",
       "      <td>92.963</td>\n",
       "      <td>-40.8</td>\n",
       "      <td>1.215</td>\n",
       "      <td>test</td>\n",
       "    </tr>\n",
       "    <tr>\n",
       "      <th>8a11f5487e2e8a6e91d0ab1b6003b55e</th>\n",
       "      <td>9</td>\n",
       "      <td>999</td>\n",
       "      <td>-1.8</td>\n",
       "      <td>92.893</td>\n",
       "      <td>-46.2</td>\n",
       "      <td>1.281</td>\n",
       "      <td>test</td>\n",
       "    </tr>\n",
       "    <tr>\n",
       "      <th>ab96e787fdf0827bbebcf95b1243d041</th>\n",
       "      <td>119</td>\n",
       "      <td>999</td>\n",
       "      <td>1.4</td>\n",
       "      <td>93.444</td>\n",
       "      <td>-36.1</td>\n",
       "      <td>4.965</td>\n",
       "      <td>test</td>\n",
       "    </tr>\n",
       "    <tr>\n",
       "      <th>233d244d79e364f517c846cb3ab1932a</th>\n",
       "      <td>348</td>\n",
       "      <td>999</td>\n",
       "      <td>1.4</td>\n",
       "      <td>94.465</td>\n",
       "      <td>-41.8</td>\n",
       "      <td>4.866</td>\n",
       "      <td>test</td>\n",
       "    </tr>\n",
       "    <tr>\n",
       "      <th>45971d4e3a47775bb5a7260bb5ea3c36</th>\n",
       "      <td>73</td>\n",
       "      <td>999</td>\n",
       "      <td>1.1</td>\n",
       "      <td>93.994</td>\n",
       "      <td>-36.4</td>\n",
       "      <td>4.857</td>\n",
       "      <td>test</td>\n",
       "    </tr>\n",
       "    <tr>\n",
       "      <th>...</th>\n",
       "      <td>...</td>\n",
       "      <td>...</td>\n",
       "      <td>...</td>\n",
       "      <td>...</td>\n",
       "      <td>...</td>\n",
       "      <td>...</td>\n",
       "      <td>...</td>\n",
       "    </tr>\n",
       "    <tr>\n",
       "      <th>28b57c7cdd412e5bc7d04eccefe6c289</th>\n",
       "      <td>33</td>\n",
       "      <td>999</td>\n",
       "      <td>1.1</td>\n",
       "      <td>93.994</td>\n",
       "      <td>-36.4</td>\n",
       "      <td>4.855</td>\n",
       "      <td>train</td>\n",
       "    </tr>\n",
       "    <tr>\n",
       "      <th>3482906bb3aaf38125bad674436e7e3a</th>\n",
       "      <td>179</td>\n",
       "      <td>999</td>\n",
       "      <td>1.1</td>\n",
       "      <td>93.994</td>\n",
       "      <td>-36.4</td>\n",
       "      <td>4.855</td>\n",
       "      <td>train</td>\n",
       "    </tr>\n",
       "    <tr>\n",
       "      <th>8ec05f3d62caf55b8571f3902d6368cc</th>\n",
       "      <td>36</td>\n",
       "      <td>999</td>\n",
       "      <td>-1.8</td>\n",
       "      <td>92.893</td>\n",
       "      <td>-46.2</td>\n",
       "      <td>1.244</td>\n",
       "      <td>train</td>\n",
       "    </tr>\n",
       "    <tr>\n",
       "      <th>abeed7a34fe08bd28fc9fe0f1b542a23</th>\n",
       "      <td>339</td>\n",
       "      <td>999</td>\n",
       "      <td>1.4</td>\n",
       "      <td>93.444</td>\n",
       "      <td>-36.1</td>\n",
       "      <td>4.968</td>\n",
       "      <td>train</td>\n",
       "    </tr>\n",
       "    <tr>\n",
       "      <th>28e37d39272f9d6d788d86cbf1810af5</th>\n",
       "      <td>138</td>\n",
       "      <td>999</td>\n",
       "      <td>1.1</td>\n",
       "      <td>93.994</td>\n",
       "      <td>-36.4</td>\n",
       "      <td>4.857</td>\n",
       "      <td>train</td>\n",
       "    </tr>\n",
       "    <tr>\n",
       "      <th>34145bc9401824f0af3a1f7c0cc2f6f5</th>\n",
       "      <td>265</td>\n",
       "      <td>999</td>\n",
       "      <td>1.1</td>\n",
       "      <td>93.994</td>\n",
       "      <td>-36.4</td>\n",
       "      <td>4.859</td>\n",
       "      <td>train</td>\n",
       "    </tr>\n",
       "    <tr>\n",
       "      <th>4324b364931a5222e9e20d6126e27143</th>\n",
       "      <td>65</td>\n",
       "      <td>999</td>\n",
       "      <td>1.4</td>\n",
       "      <td>93.918</td>\n",
       "      <td>-42.7</td>\n",
       "      <td>4.968</td>\n",
       "      <td>train</td>\n",
       "    </tr>\n",
       "    <tr>\n",
       "      <th>34c87a94e726b0cb2172b9169b2cd972</th>\n",
       "      <td>151</td>\n",
       "      <td>999</td>\n",
       "      <td>1.4</td>\n",
       "      <td>93.444</td>\n",
       "      <td>-36.1</td>\n",
       "      <td>4.970</td>\n",
       "      <td>train</td>\n",
       "    </tr>\n",
       "    <tr>\n",
       "      <th>c07a845b30361ec28c21e2d366ee96b8</th>\n",
       "      <td>52</td>\n",
       "      <td>999</td>\n",
       "      <td>-0.1</td>\n",
       "      <td>93.200</td>\n",
       "      <td>-42.0</td>\n",
       "      <td>4.120</td>\n",
       "      <td>train</td>\n",
       "    </tr>\n",
       "    <tr>\n",
       "      <th>2d58d21625f5a34e0919eece4348ba2f</th>\n",
       "      <td>52</td>\n",
       "      <td>999</td>\n",
       "      <td>-0.1</td>\n",
       "      <td>93.200</td>\n",
       "      <td>-42.0</td>\n",
       "      <td>4.021</td>\n",
       "      <td>train</td>\n",
       "    </tr>\n",
       "    <tr>\n",
       "      <th>286544c3eb2304b0c23405db4425a871</th>\n",
       "      <td>50</td>\n",
       "      <td>999</td>\n",
       "      <td>1.1</td>\n",
       "      <td>93.994</td>\n",
       "      <td>-36.4</td>\n",
       "      <td>4.857</td>\n",
       "      <td>train</td>\n",
       "    </tr>\n",
       "    <tr>\n",
       "      <th>c1c77f0d583dd6725bf9c6b00270955d</th>\n",
       "      <td>125</td>\n",
       "      <td>999</td>\n",
       "      <td>-1.8</td>\n",
       "      <td>93.075</td>\n",
       "      <td>-47.1</td>\n",
       "      <td>1.410</td>\n",
       "      <td>train</td>\n",
       "    </tr>\n",
       "    <tr>\n",
       "      <th>056d3806a5c04bfced4ab766c1126db7</th>\n",
       "      <td>442</td>\n",
       "      <td>999</td>\n",
       "      <td>1.4</td>\n",
       "      <td>93.444</td>\n",
       "      <td>-36.1</td>\n",
       "      <td>4.966</td>\n",
       "      <td>train</td>\n",
       "    </tr>\n",
       "    <tr>\n",
       "      <th>519566f4297aa248b9495efd2ebfc5ba</th>\n",
       "      <td>154</td>\n",
       "      <td>999</td>\n",
       "      <td>1.4</td>\n",
       "      <td>93.918</td>\n",
       "      <td>-42.7</td>\n",
       "      <td>4.962</td>\n",
       "      <td>train</td>\n",
       "    </tr>\n",
       "    <tr>\n",
       "      <th>23479e3b9b6c7deb5710b3805ce66e8f</th>\n",
       "      <td>172</td>\n",
       "      <td>999</td>\n",
       "      <td>-1.8</td>\n",
       "      <td>93.369</td>\n",
       "      <td>-34.8</td>\n",
       "      <td>0.653</td>\n",
       "      <td>train</td>\n",
       "    </tr>\n",
       "    <tr>\n",
       "      <th>e45e136c3dec79e4b71dedf380e16234</th>\n",
       "      <td>76</td>\n",
       "      <td>3</td>\n",
       "      <td>-2.9</td>\n",
       "      <td>92.201</td>\n",
       "      <td>-31.4</td>\n",
       "      <td>0.834</td>\n",
       "      <td>train</td>\n",
       "    </tr>\n",
       "    <tr>\n",
       "      <th>4938b821ccc410e7185dd641059c1c3e</th>\n",
       "      <td>111</td>\n",
       "      <td>999</td>\n",
       "      <td>1.1</td>\n",
       "      <td>93.994</td>\n",
       "      <td>-36.4</td>\n",
       "      <td>4.857</td>\n",
       "      <td>train</td>\n",
       "    </tr>\n",
       "    <tr>\n",
       "      <th>911b2429623176dc28854a37af4da54f</th>\n",
       "      <td>521</td>\n",
       "      <td>999</td>\n",
       "      <td>1.1</td>\n",
       "      <td>93.994</td>\n",
       "      <td>-36.4</td>\n",
       "      <td>4.856</td>\n",
       "      <td>train</td>\n",
       "    </tr>\n",
       "    <tr>\n",
       "      <th>28226a3bf54c2dd8cbb3e08b64ee730d</th>\n",
       "      <td>216</td>\n",
       "      <td>999</td>\n",
       "      <td>1.1</td>\n",
       "      <td>93.994</td>\n",
       "      <td>-36.4</td>\n",
       "      <td>4.856</td>\n",
       "      <td>train</td>\n",
       "    </tr>\n",
       "    <tr>\n",
       "      <th>ef5a718ea268f0b9627e48715c08b855</th>\n",
       "      <td>106</td>\n",
       "      <td>999</td>\n",
       "      <td>1.1</td>\n",
       "      <td>93.994</td>\n",
       "      <td>-36.4</td>\n",
       "      <td>4.855</td>\n",
       "      <td>train</td>\n",
       "    </tr>\n",
       "    <tr>\n",
       "      <th>5bda10424327b19dacd7ad441eb96f87</th>\n",
       "      <td>212</td>\n",
       "      <td>3</td>\n",
       "      <td>-1.1</td>\n",
       "      <td>94.767</td>\n",
       "      <td>-50.8</td>\n",
       "      <td>1.048</td>\n",
       "      <td>train</td>\n",
       "    </tr>\n",
       "    <tr>\n",
       "      <th>3b645c9f6fe700760d6eb129fb39cbaa</th>\n",
       "      <td>376</td>\n",
       "      <td>999</td>\n",
       "      <td>1.4</td>\n",
       "      <td>93.918</td>\n",
       "      <td>-42.7</td>\n",
       "      <td>4.961</td>\n",
       "      <td>train</td>\n",
       "    </tr>\n",
       "    <tr>\n",
       "      <th>bab14c06a4521a1be42886d06a949524</th>\n",
       "      <td>398</td>\n",
       "      <td>999</td>\n",
       "      <td>1.4</td>\n",
       "      <td>93.444</td>\n",
       "      <td>-36.1</td>\n",
       "      <td>4.964</td>\n",
       "      <td>train</td>\n",
       "    </tr>\n",
       "    <tr>\n",
       "      <th>2cc26ab0e721e5e9c6669413f75da257</th>\n",
       "      <td>142</td>\n",
       "      <td>999</td>\n",
       "      <td>-2.9</td>\n",
       "      <td>92.201</td>\n",
       "      <td>-31.4</td>\n",
       "      <td>0.883</td>\n",
       "      <td>train</td>\n",
       "    </tr>\n",
       "    <tr>\n",
       "      <th>dafc873488714ecc84cb5dff649e8495</th>\n",
       "      <td>171</td>\n",
       "      <td>999</td>\n",
       "      <td>1.4</td>\n",
       "      <td>93.918</td>\n",
       "      <td>-42.7</td>\n",
       "      <td>4.962</td>\n",
       "      <td>train</td>\n",
       "    </tr>\n",
       "    <tr>\n",
       "      <th>4161f19fed82fd2c937291775bfa7891</th>\n",
       "      <td>427</td>\n",
       "      <td>999</td>\n",
       "      <td>1.1</td>\n",
       "      <td>93.994</td>\n",
       "      <td>-36.4</td>\n",
       "      <td>4.857</td>\n",
       "      <td>train</td>\n",
       "    </tr>\n",
       "    <tr>\n",
       "      <th>96e1c42e88b9e93256e1538b2001b98f</th>\n",
       "      <td>288</td>\n",
       "      <td>999</td>\n",
       "      <td>1.4</td>\n",
       "      <td>94.465</td>\n",
       "      <td>-41.8</td>\n",
       "      <td>4.961</td>\n",
       "      <td>train</td>\n",
       "    </tr>\n",
       "    <tr>\n",
       "      <th>55f91ed39163c14985c2a8ad85b80635</th>\n",
       "      <td>194</td>\n",
       "      <td>4</td>\n",
       "      <td>-3.4</td>\n",
       "      <td>92.431</td>\n",
       "      <td>-26.9</td>\n",
       "      <td>0.754</td>\n",
       "      <td>train</td>\n",
       "    </tr>\n",
       "    <tr>\n",
       "      <th>01734878c05d2dded8c726a622fdba9e</th>\n",
       "      <td>295</td>\n",
       "      <td>999</td>\n",
       "      <td>1.1</td>\n",
       "      <td>93.994</td>\n",
       "      <td>-36.4</td>\n",
       "      <td>4.856</td>\n",
       "      <td>train</td>\n",
       "    </tr>\n",
       "    <tr>\n",
       "      <th>46d0d25dfd1def79632dd437261d0b5c</th>\n",
       "      <td>333</td>\n",
       "      <td>999</td>\n",
       "      <td>1.4</td>\n",
       "      <td>93.918</td>\n",
       "      <td>-42.7</td>\n",
       "      <td>4.960</td>\n",
       "      <td>train</td>\n",
       "    </tr>\n",
       "  </tbody>\n",
       "</table>\n",
       "<p>41188 rows × 7 columns</p>\n",
       "</div>"
      ],
      "text/plain": [
       "                                  duration  pdays  emp.var.rate  \\\n",
       "_id                                                               \n",
       "66810d8e6bf2b41c880a7bc6c8a1e295       371    999          -1.8   \n",
       "ccac3879652b08cb8b44c1920fd93afa       285    999           1.1   \n",
       "fcccab4d7a76f70647f015f2c84c2af8        52    999          -1.8   \n",
       "ed8399278c30678dab739045fa12b440       355    999           1.4   \n",
       "1d4d62ac5cabcb48bac7112813f290cb       189    999           1.4   \n",
       "aba2dec4c5cab88824f36babd24b986f       605    999           1.4   \n",
       "06f318f1dd178e738f675bb88a5adb84       243    999           1.1   \n",
       "d5036f5956e42ee6207296238fc4bc1d        24    999           1.4   \n",
       "fe0cc8933698ad4046ff2b82f65756eb       126    999           1.4   \n",
       "70190122f4ebf196535e11b33eb95b81        43    999           1.4   \n",
       "8c2e044ac444afd4d0dea67eba0079c4       451    999          -1.8   \n",
       "0d7db1117ed3606d7bbbb65d584b5c2f       560    999          -1.8   \n",
       "aa3d1e4ba96323b5449a23cb54badc50       982    999           1.4   \n",
       "d312d9b1ffdab785a806490ca0450f7b       552    999           1.4   \n",
       "56da3f911d7cc5e8f47f2703b74bdc45       265    999           1.4   \n",
       "19afb1a10078e901994a1e1e2c058652       171    999           1.4   \n",
       "9ac0fc025e2f551a7d5214a606a77434       151    999           1.4   \n",
       "4bc819b6f4ebbedca0fe354ba5dc7ba3       178    999           1.4   \n",
       "1c02af75529cdaee5f8822a5251f5c63        92    999           1.4   \n",
       "9d0424c7a80ebde8cc8b5520721592f2       399    999          -2.9   \n",
       "cf005d4bc86312d5f1032e08ef342e05      1330    999           1.4   \n",
       "6abe7bc6263ac81d7f6764c6b0489703       339    999           1.1   \n",
       "b56ee107fc7abbabfa317f9209cbc5fd       524    999           1.4   \n",
       "2fd2f7790cd8d0c638d55f41b1f323a2       101    999           1.4   \n",
       "bd3b2a1af1abd0d48af835aa69848232       158    999           1.4   \n",
       "d50372645903431bd7ceb57bbf1cea06        60    999          -2.9   \n",
       "8a11f5487e2e8a6e91d0ab1b6003b55e         9    999          -1.8   \n",
       "ab96e787fdf0827bbebcf95b1243d041       119    999           1.4   \n",
       "233d244d79e364f517c846cb3ab1932a       348    999           1.4   \n",
       "45971d4e3a47775bb5a7260bb5ea3c36        73    999           1.1   \n",
       "...                                    ...    ...           ...   \n",
       "28b57c7cdd412e5bc7d04eccefe6c289        33    999           1.1   \n",
       "3482906bb3aaf38125bad674436e7e3a       179    999           1.1   \n",
       "8ec05f3d62caf55b8571f3902d6368cc        36    999          -1.8   \n",
       "abeed7a34fe08bd28fc9fe0f1b542a23       339    999           1.4   \n",
       "28e37d39272f9d6d788d86cbf1810af5       138    999           1.1   \n",
       "34145bc9401824f0af3a1f7c0cc2f6f5       265    999           1.1   \n",
       "4324b364931a5222e9e20d6126e27143        65    999           1.4   \n",
       "34c87a94e726b0cb2172b9169b2cd972       151    999           1.4   \n",
       "c07a845b30361ec28c21e2d366ee96b8        52    999          -0.1   \n",
       "2d58d21625f5a34e0919eece4348ba2f        52    999          -0.1   \n",
       "286544c3eb2304b0c23405db4425a871        50    999           1.1   \n",
       "c1c77f0d583dd6725bf9c6b00270955d       125    999          -1.8   \n",
       "056d3806a5c04bfced4ab766c1126db7       442    999           1.4   \n",
       "519566f4297aa248b9495efd2ebfc5ba       154    999           1.4   \n",
       "23479e3b9b6c7deb5710b3805ce66e8f       172    999          -1.8   \n",
       "e45e136c3dec79e4b71dedf380e16234        76      3          -2.9   \n",
       "4938b821ccc410e7185dd641059c1c3e       111    999           1.1   \n",
       "911b2429623176dc28854a37af4da54f       521    999           1.1   \n",
       "28226a3bf54c2dd8cbb3e08b64ee730d       216    999           1.1   \n",
       "ef5a718ea268f0b9627e48715c08b855       106    999           1.1   \n",
       "5bda10424327b19dacd7ad441eb96f87       212      3          -1.1   \n",
       "3b645c9f6fe700760d6eb129fb39cbaa       376    999           1.4   \n",
       "bab14c06a4521a1be42886d06a949524       398    999           1.4   \n",
       "2cc26ab0e721e5e9c6669413f75da257       142    999          -2.9   \n",
       "dafc873488714ecc84cb5dff649e8495       171    999           1.4   \n",
       "4161f19fed82fd2c937291775bfa7891       427    999           1.1   \n",
       "96e1c42e88b9e93256e1538b2001b98f       288    999           1.4   \n",
       "55f91ed39163c14985c2a8ad85b80635       194      4          -3.4   \n",
       "01734878c05d2dded8c726a622fdba9e       295    999           1.1   \n",
       "46d0d25dfd1def79632dd437261d0b5c       333    999           1.4   \n",
       "\n",
       "                                  cons.price.idx  cons.conf.idx  euribor3m  \\\n",
       "_id                                                                          \n",
       "66810d8e6bf2b41c880a7bc6c8a1e295          92.893          -46.2      1.299   \n",
       "ccac3879652b08cb8b44c1920fd93afa          93.994          -36.4      4.860   \n",
       "fcccab4d7a76f70647f015f2c84c2af8          92.893          -46.2      1.313   \n",
       "ed8399278c30678dab739045fa12b440          94.465          -41.8      4.967   \n",
       "1d4d62ac5cabcb48bac7112813f290cb          93.918          -42.7      4.963   \n",
       "aba2dec4c5cab88824f36babd24b986f          93.918          -42.7      4.962   \n",
       "06f318f1dd178e738f675bb88a5adb84          93.994          -36.4      4.856   \n",
       "d5036f5956e42ee6207296238fc4bc1d          93.444          -36.1      4.962   \n",
       "fe0cc8933698ad4046ff2b82f65756eb          94.465          -41.8      4.962   \n",
       "70190122f4ebf196535e11b33eb95b81          93.918          -42.7      4.962   \n",
       "8c2e044ac444afd4d0dea67eba0079c4          92.893          -46.2      1.313   \n",
       "0d7db1117ed3606d7bbbb65d584b5c2f          92.893          -46.2      1.327   \n",
       "aa3d1e4ba96323b5449a23cb54badc50          93.918          -42.7      4.963   \n",
       "d312d9b1ffdab785a806490ca0450f7b          93.444          -36.1      4.964   \n",
       "56da3f911d7cc5e8f47f2703b74bdc45          93.918          -42.7      4.962   \n",
       "19afb1a10078e901994a1e1e2c058652          94.465          -41.8      4.865   \n",
       "9ac0fc025e2f551a7d5214a606a77434          93.918          -42.7      4.963   \n",
       "4bc819b6f4ebbedca0fe354ba5dc7ba3          93.918          -42.7      4.961   \n",
       "1c02af75529cdaee5f8822a5251f5c63          93.918          -42.7      4.957   \n",
       "9d0424c7a80ebde8cc8b5520721592f2          92.201          -31.4      0.873   \n",
       "cf005d4bc86312d5f1032e08ef342e05          93.918          -42.7      4.962   \n",
       "6abe7bc6263ac81d7f6764c6b0489703          93.994          -36.4      4.855   \n",
       "b56ee107fc7abbabfa317f9209cbc5fd          94.465          -41.8      4.864   \n",
       "2fd2f7790cd8d0c638d55f41b1f323a2          93.918          -42.7      4.960   \n",
       "bd3b2a1af1abd0d48af835aa69848232          93.444          -36.1      4.965   \n",
       "d50372645903431bd7ceb57bbf1cea06          92.963          -40.8      1.215   \n",
       "8a11f5487e2e8a6e91d0ab1b6003b55e          92.893          -46.2      1.281   \n",
       "ab96e787fdf0827bbebcf95b1243d041          93.444          -36.1      4.965   \n",
       "233d244d79e364f517c846cb3ab1932a          94.465          -41.8      4.866   \n",
       "45971d4e3a47775bb5a7260bb5ea3c36          93.994          -36.4      4.857   \n",
       "...                                          ...            ...        ...   \n",
       "28b57c7cdd412e5bc7d04eccefe6c289          93.994          -36.4      4.855   \n",
       "3482906bb3aaf38125bad674436e7e3a          93.994          -36.4      4.855   \n",
       "8ec05f3d62caf55b8571f3902d6368cc          92.893          -46.2      1.244   \n",
       "abeed7a34fe08bd28fc9fe0f1b542a23          93.444          -36.1      4.968   \n",
       "28e37d39272f9d6d788d86cbf1810af5          93.994          -36.4      4.857   \n",
       "34145bc9401824f0af3a1f7c0cc2f6f5          93.994          -36.4      4.859   \n",
       "4324b364931a5222e9e20d6126e27143          93.918          -42.7      4.968   \n",
       "34c87a94e726b0cb2172b9169b2cd972          93.444          -36.1      4.970   \n",
       "c07a845b30361ec28c21e2d366ee96b8          93.200          -42.0      4.120   \n",
       "2d58d21625f5a34e0919eece4348ba2f          93.200          -42.0      4.021   \n",
       "286544c3eb2304b0c23405db4425a871          93.994          -36.4      4.857   \n",
       "c1c77f0d583dd6725bf9c6b00270955d          93.075          -47.1      1.410   \n",
       "056d3806a5c04bfced4ab766c1126db7          93.444          -36.1      4.966   \n",
       "519566f4297aa248b9495efd2ebfc5ba          93.918          -42.7      4.962   \n",
       "23479e3b9b6c7deb5710b3805ce66e8f          93.369          -34.8      0.653   \n",
       "e45e136c3dec79e4b71dedf380e16234          92.201          -31.4      0.834   \n",
       "4938b821ccc410e7185dd641059c1c3e          93.994          -36.4      4.857   \n",
       "911b2429623176dc28854a37af4da54f          93.994          -36.4      4.856   \n",
       "28226a3bf54c2dd8cbb3e08b64ee730d          93.994          -36.4      4.856   \n",
       "ef5a718ea268f0b9627e48715c08b855          93.994          -36.4      4.855   \n",
       "5bda10424327b19dacd7ad441eb96f87          94.767          -50.8      1.048   \n",
       "3b645c9f6fe700760d6eb129fb39cbaa          93.918          -42.7      4.961   \n",
       "bab14c06a4521a1be42886d06a949524          93.444          -36.1      4.964   \n",
       "2cc26ab0e721e5e9c6669413f75da257          92.201          -31.4      0.883   \n",
       "dafc873488714ecc84cb5dff649e8495          93.918          -42.7      4.962   \n",
       "4161f19fed82fd2c937291775bfa7891          93.994          -36.4      4.857   \n",
       "96e1c42e88b9e93256e1538b2001b98f          94.465          -41.8      4.961   \n",
       "55f91ed39163c14985c2a8ad85b80635          92.431          -26.9      0.754   \n",
       "01734878c05d2dded8c726a622fdba9e          93.994          -36.4      4.856   \n",
       "46d0d25dfd1def79632dd437261d0b5c          93.918          -42.7      4.960   \n",
       "\n",
       "                                 sample  \n",
       "_id                                      \n",
       "66810d8e6bf2b41c880a7bc6c8a1e295   test  \n",
       "ccac3879652b08cb8b44c1920fd93afa   test  \n",
       "fcccab4d7a76f70647f015f2c84c2af8   test  \n",
       "ed8399278c30678dab739045fa12b440   test  \n",
       "1d4d62ac5cabcb48bac7112813f290cb   test  \n",
       "aba2dec4c5cab88824f36babd24b986f   test  \n",
       "06f318f1dd178e738f675bb88a5adb84   test  \n",
       "d5036f5956e42ee6207296238fc4bc1d   test  \n",
       "fe0cc8933698ad4046ff2b82f65756eb   test  \n",
       "70190122f4ebf196535e11b33eb95b81   test  \n",
       "8c2e044ac444afd4d0dea67eba0079c4   test  \n",
       "0d7db1117ed3606d7bbbb65d584b5c2f   test  \n",
       "aa3d1e4ba96323b5449a23cb54badc50   test  \n",
       "d312d9b1ffdab785a806490ca0450f7b   test  \n",
       "56da3f911d7cc5e8f47f2703b74bdc45   test  \n",
       "19afb1a10078e901994a1e1e2c058652   test  \n",
       "9ac0fc025e2f551a7d5214a606a77434   test  \n",
       "4bc819b6f4ebbedca0fe354ba5dc7ba3   test  \n",
       "1c02af75529cdaee5f8822a5251f5c63   test  \n",
       "9d0424c7a80ebde8cc8b5520721592f2   test  \n",
       "cf005d4bc86312d5f1032e08ef342e05   test  \n",
       "6abe7bc6263ac81d7f6764c6b0489703   test  \n",
       "b56ee107fc7abbabfa317f9209cbc5fd   test  \n",
       "2fd2f7790cd8d0c638d55f41b1f323a2   test  \n",
       "bd3b2a1af1abd0d48af835aa69848232   test  \n",
       "d50372645903431bd7ceb57bbf1cea06   test  \n",
       "8a11f5487e2e8a6e91d0ab1b6003b55e   test  \n",
       "ab96e787fdf0827bbebcf95b1243d041   test  \n",
       "233d244d79e364f517c846cb3ab1932a   test  \n",
       "45971d4e3a47775bb5a7260bb5ea3c36   test  \n",
       "...                                 ...  \n",
       "28b57c7cdd412e5bc7d04eccefe6c289  train  \n",
       "3482906bb3aaf38125bad674436e7e3a  train  \n",
       "8ec05f3d62caf55b8571f3902d6368cc  train  \n",
       "abeed7a34fe08bd28fc9fe0f1b542a23  train  \n",
       "28e37d39272f9d6d788d86cbf1810af5  train  \n",
       "34145bc9401824f0af3a1f7c0cc2f6f5  train  \n",
       "4324b364931a5222e9e20d6126e27143  train  \n",
       "34c87a94e726b0cb2172b9169b2cd972  train  \n",
       "c07a845b30361ec28c21e2d366ee96b8  train  \n",
       "2d58d21625f5a34e0919eece4348ba2f  train  \n",
       "286544c3eb2304b0c23405db4425a871  train  \n",
       "c1c77f0d583dd6725bf9c6b00270955d  train  \n",
       "056d3806a5c04bfced4ab766c1126db7  train  \n",
       "519566f4297aa248b9495efd2ebfc5ba  train  \n",
       "23479e3b9b6c7deb5710b3805ce66e8f  train  \n",
       "e45e136c3dec79e4b71dedf380e16234  train  \n",
       "4938b821ccc410e7185dd641059c1c3e  train  \n",
       "911b2429623176dc28854a37af4da54f  train  \n",
       "28226a3bf54c2dd8cbb3e08b64ee730d  train  \n",
       "ef5a718ea268f0b9627e48715c08b855  train  \n",
       "5bda10424327b19dacd7ad441eb96f87  train  \n",
       "3b645c9f6fe700760d6eb129fb39cbaa  train  \n",
       "bab14c06a4521a1be42886d06a949524  train  \n",
       "2cc26ab0e721e5e9c6669413f75da257  train  \n",
       "dafc873488714ecc84cb5dff649e8495  train  \n",
       "4161f19fed82fd2c937291775bfa7891  train  \n",
       "96e1c42e88b9e93256e1538b2001b98f  train  \n",
       "55f91ed39163c14985c2a8ad85b80635  train  \n",
       "01734878c05d2dded8c726a622fdba9e  train  \n",
       "46d0d25dfd1def79632dd437261d0b5c  train  \n",
       "\n",
       "[41188 rows x 7 columns]"
      ]
     },
     "execution_count": 16,
     "metadata": {},
     "output_type": "execute_result"
    }
   ],
   "source": [
    "df_for_model"
   ]
  },
  {
   "cell_type": "code",
   "execution_count": null,
   "metadata": {},
   "outputs": [],
   "source": []
  },
  {
   "cell_type": "markdown",
   "metadata": {},
   "source": [
    "# тестируем скинуть данные\n",
    "df_for_model = df_for_model.drop(['job_admin.',\n",
    " 'job_blue-collar',\n",
    " 'job_entrepreneur',\n",
    " 'job_housemaid',\n",
    " 'job_management',\n",
    " 'job_retired',\n",
    " 'job_self-employed',\n",
    " 'job_services',\n",
    " 'job_student',\n",
    " 'job_technician',\n",
    " 'job_unemployed',\n",
    " 'job_unknown',\n",
    " 'marital_divorced',\n",
    " 'marital_married',\n",
    " 'marital_single',\n",
    " 'marital_unknown',\n",
    " 'education_basic.4y',\n",
    " 'education_basic.6y',\n",
    " 'education_basic.9y',\n",
    " 'education_high.school',\n",
    " 'education_illiterate',\n",
    " 'education_professional.course',\n",
    " 'education_university.degree',\n",
    " 'education_unknown',\n",
    " 'default_no',\n",
    " 'default_unknown',\n",
    " 'default_yes',\n",
    " 'housing_no',\n",
    " 'housing_unknown',\n",
    " 'housing_yes',\n",
    " 'loan_no',\n",
    " 'loan_unknown',\n",
    " 'loan_yes',\n",
    " 'contact_cellular',\n",
    " 'contact_telephone',\n",
    " 'month_apr',\n",
    " 'month_aug',\n",
    " 'month_dec',\n",
    " 'month_jul',\n",
    " 'month_jun',\n",
    " 'month_mar',\n",
    " 'month_may',\n",
    " 'month_nov',\n",
    " 'month_oct',\n",
    " 'month_sep',\n",
    " 'day_of_week_fri'], axis=1)"
   ]
  },
  {
   "cell_type": "code",
   "execution_count": null,
   "metadata": {},
   "outputs": [],
   "source": []
  },
  {
   "cell_type": "code",
   "execution_count": 18,
   "metadata": {},
   "outputs": [],
   "source": [
    "df_model_train = df_for_model.query('sample == \"train\"').drop(['sample'], axis=1)\n",
    "df_model_test = df_for_model.query('sample == \"test\"').drop(['sample'], axis=1)"
   ]
  },
  {
   "cell_type": "code",
   "execution_count": 19,
   "metadata": {},
   "outputs": [
    {
     "data": {
      "text/plain": [
       "(24712, 6)"
      ]
     },
     "execution_count": 19,
     "metadata": {},
     "output_type": "execute_result"
    }
   ],
   "source": [
    "df_model_train.shape"
   ]
  },
  {
   "cell_type": "code",
   "execution_count": 20,
   "metadata": {},
   "outputs": [
    {
     "data": {
      "text/plain": [
       "(16476, 6)"
      ]
     },
     "execution_count": 20,
     "metadata": {},
     "output_type": "execute_result"
    }
   ],
   "source": [
    "df_model_test.shape"
   ]
  },
  {
   "cell_type": "code",
   "execution_count": 30,
   "metadata": {},
   "outputs": [],
   "source": [
    "from sklearn.cross_validation import train_test_split\n",
    "# test_size=0.3, random_state=42\n",
    "\n",
    "XX_train, XX_test, yy_train, yy_test = train_test_split(df_model_train, train_target, test_size=0.33, random_state=42)"
   ]
  },
  {
   "cell_type": "code",
   "execution_count": 22,
   "metadata": {},
   "outputs": [
    {
     "name": "stdout",
     "output_type": "stream",
     "text": [
      "(16557, 6)\n",
      "(8155, 6)\n",
      "(16557, 1)\n",
      "(8155, 1)\n"
     ]
    }
   ],
   "source": [
    "print(XX_train.shape)\n",
    "print(XX_test.shape)\n",
    "print(yy_train.shape)\n",
    "print(yy_test.shape)"
   ]
  },
  {
   "cell_type": "code",
   "execution_count": 32,
   "metadata": {},
   "outputs": [
    {
     "name": "stderr",
     "output_type": "stream",
     "text": [
      "C:\\Users\\iseob\\Anaconda3\\lib\\site-packages\\ipykernel_launcher.py:13: DataConversionWarning: A column-vector y was passed when a 1d array was expected. Please change the shape of y to (n_samples,), for example using ravel().\n",
      "  del sys.path[0]\n",
      "C:\\Users\\iseob\\Anaconda3\\lib\\site-packages\\sklearn\\utils\\validation.py:578: DataConversionWarning: A column-vector y was passed when a 1d array was expected. Please change the shape of y to (n_samples, ), for example using ravel().\n",
      "  y = column_or_1d(y, warn=True)\n",
      "C:\\Users\\iseob\\Anaconda3\\lib\\site-packages\\ipykernel_launcher.py:25: DataConversionWarning: A column-vector y was passed when a 1d array was expected. Please change the shape of y to (n_samples, ), for example using ravel().\n"
     ]
    }
   ],
   "source": [
    "from sklearn.tree import DecisionTreeClassifier\n",
    "from sklearn.ensemble import RandomForestClassifier\n",
    "from sklearn.linear_model import LogisticRegression\n",
    "from sklearn.neighbors import KNeighborsClassifier\n",
    "\n",
    "dtc = DecisionTreeClassifier(max_depth=5, criterion='entropy')\n",
    "dtc.fit(XX_train, yy_train)\n",
    "predict = dtc.predict(XX_test)\n",
    "predict_pr = dtc.predict_proba(XX_test)\n",
    "\n",
    "\n",
    "dtc3 = RandomForestClassifier(max_depth=9, criterion='entropy')\n",
    "dtc3.fit(XX_train, yy_train)\n",
    "predict3 = dtc3.predict(XX_test)\n",
    "predict_pr3 = dtc3.predict_proba(XX_test)\n",
    "\n",
    "\n",
    "dtc4 = LogisticRegression()\n",
    "dtc4.fit(XX_train, yy_train)\n",
    "predict4 = dtc4.predict(XX_test)\n",
    "predict_pr4 = dtc4.predict_proba(XX_test)\n",
    "\n",
    "\n",
    "knn = KNeighborsClassifier(n_neighbors=1)\n",
    "knn.fit(XX_train, yy_train)\n",
    "predictKnn = knn.predict(XX_test)\n",
    "predict_Knn = knn.predict_proba(XX_test)"
   ]
  },
  {
   "cell_type": "code",
   "execution_count": 33,
   "metadata": {},
   "outputs": [
    {
     "name": "stdout",
     "output_type": "stream",
     "text": [
      "precision 0.6513911620294599\n",
      "recall 0.43027027027027026\n",
      "accuracy 0.9092581238503985\n",
      "----------\n",
      "precision 0.6404199475065617\n",
      "recall 0.5275675675675676\n",
      "accuracy 0.9128142244022073\n",
      "----------\n",
      "precision 0.6457925636007827\n",
      "recall 0.3567567567567568\n",
      "accuracy 0.9048436541998773\n",
      "----------\n",
      "precision 0.489432703003337\n",
      "recall 0.4756756756756757\n",
      "accuracy 0.8842427958307787\n"
     ]
    }
   ],
   "source": [
    "from sklearn.metrics import precision_score, recall_score, accuracy_score, f1_score\n",
    "\n",
    "# Посчитать метрики стандартные\n",
    "# accuracy, precision, recall\n",
    "\n",
    "print('precision', precision_score(yy_test, predict))\n",
    "print('recall', recall_score(yy_test, predict))\n",
    "print('accuracy', accuracy_score(yy_test, predict))\n",
    "\n",
    "print('-'*10)\n",
    "\n",
    "print('precision', precision_score(yy_test, predict3))\n",
    "print('recall', recall_score(yy_test, predict3))\n",
    "print('accuracy', accuracy_score(yy_test, predict3))\n",
    "\n",
    "print('-'*10)\n",
    "\n",
    "print('precision', precision_score(yy_test, predict4))\n",
    "print('recall', recall_score(yy_test, predict4))\n",
    "print('accuracy', accuracy_score(yy_test, predict4))\n",
    "\n",
    "print('-'*10)\n",
    "\n",
    "print('precision', precision_score(yy_test, predictKnn))\n",
    "print('recall', recall_score(yy_test, predictKnn))\n",
    "print('accuracy', accuracy_score(yy_test, predictKnn))"
   ]
  },
  {
   "cell_type": "code",
   "execution_count": 34,
   "metadata": {},
   "outputs": [],
   "source": [
    "from sklearn.metrics import precision_recall_curve\n",
    "precision, recall, thresholds = precision_recall_curve(yy_test, predict)\n",
    "precision3, recall3, thresholds3 = precision_recall_curve(yy_test, predict3)\n",
    "precision4, recall4, thresholds4 = precision_recall_curve(yy_test, predict4)"
   ]
  },
  {
   "cell_type": "code",
   "execution_count": 35,
   "metadata": {
    "scrolled": true
   },
   "outputs": [
    {
     "data": {
      "image/png": "[encoded data removed]",
      "text/plain": [
       "<matplotlib.figure.Figure at 0x255300ca2e8>"
      ]
     },
     "metadata": {},
     "output_type": "display_data"
    }
   ],
   "source": [
    "%matplotlib inline\n",
    "from matplotlib import pyplot as plt\n",
    "from sklearn.metrics import roc_auc_score, roc_curve\n",
    "fpr, tpr, thresholds = roc_curve(yy_test, predict_pr[:,1])\n",
    "fpr3, tpr3, thresholds3 = roc_curve(yy_test, predict_pr3[:,1])\n",
    "fpr4, tpr4, thresholds4 = roc_curve(yy_test, predict_pr4[:,1])\n",
    "plt.figure(figsize=(5, 5))\n",
    "plt.plot(fpr, tpr, label='DecisionTree')\n",
    "plt.plot(fpr3, tpr3, label='RandomForest')\n",
    "plt.plot(fpr4, tpr4, label='LogisticRegression')\n",
    "plt.plot([0, 1], [0, 1])\n",
    "plt.ylabel('tpr')\n",
    "plt.xlabel('fpr')\n",
    "plt.grid(True)\n",
    "plt.title('ROC curve')\n",
    "plt.xlim((-0.01, 1.01))\n",
    "plt.ylim((-0.01, 1.01))\n",
    "plt.legend(loc='best');"
   ]
  },
  {
   "cell_type": "code",
   "execution_count": 36,
   "metadata": {},
   "outputs": [],
   "source": [
    "from sklearn.cross_validation import cross_val_score\n",
    "from sklearn.model_selection import StratifiedKFold\n",
    "\n",
    "cv = StratifiedKFold(n_splits=10, shuffle=True, random_state=123)"
   ]
  },
  {
   "cell_type": "code",
   "execution_count": 37,
   "metadata": {},
   "outputs": [
    {
     "data": {
      "text/plain": [
       "0.9311053440573847"
      ]
     },
     "execution_count": 37,
     "metadata": {},
     "output_type": "execute_result"
    }
   ],
   "source": [
    "cross_val_score(\n",
    "    dtc,\n",
    "    df_model_train,\n",
    "    train_target['target'],\n",
    "    scoring='roc_auc',\n",
    "    cv = 10\n",
    ").mean()\n",
    "#0.9355952141150086 - max результат что ловил, когда убрал 'month','day_of_week'\n",
    "#0.9363370010633106 - max результат что ловил, когда оставил age, duration, pdays, emp.var.rate, cons.price.idx, cons.conf.idx, euribor3m, nr.employed, sample"
   ]
  },
  {
   "cell_type": "code",
   "execution_count": 31,
   "metadata": {},
   "outputs": [
    {
     "name": "stderr",
     "output_type": "stream",
     "text": [
      "C:\\Users\\iseob\\Anaconda3\\lib\\site-packages\\ipykernel_launcher.py:4: DataConversionWarning: A column-vector y was passed when a 1d array was expected. Please change the shape of y to (n_samples,), for example using ravel().\n",
      "  after removing the cwd from sys.path.\n"
     ]
    },
    {
     "name": "stdout",
     "output_type": "stream",
     "text": [
      "4\n",
      "0.9317050375182847\n",
      "5\n"
     ]
    },
    {
     "name": "stderr",
     "output_type": "stream",
     "text": [
      "C:\\Users\\iseob\\Anaconda3\\lib\\site-packages\\ipykernel_launcher.py:4: DataConversionWarning: A column-vector y was passed when a 1d array was expected. Please change the shape of y to (n_samples,), for example using ravel().\n",
      "  after removing the cwd from sys.path.\n"
     ]
    },
    {
     "name": "stdout",
     "output_type": "stream",
     "text": [
      "0.9378642237918642\n",
      "6\n"
     ]
    },
    {
     "name": "stderr",
     "output_type": "stream",
     "text": [
      "C:\\Users\\iseob\\Anaconda3\\lib\\site-packages\\ipykernel_launcher.py:4: DataConversionWarning: A column-vector y was passed when a 1d array was expected. Please change the shape of y to (n_samples,), for example using ravel().\n",
      "  after removing the cwd from sys.path.\n"
     ]
    },
    {
     "name": "stdout",
     "output_type": "stream",
     "text": [
      "0.9410830710771944\n",
      "7\n"
     ]
    },
    {
     "name": "stderr",
     "output_type": "stream",
     "text": [
      "C:\\Users\\iseob\\Anaconda3\\lib\\site-packages\\ipykernel_launcher.py:4: DataConversionWarning: A column-vector y was passed when a 1d array was expected. Please change the shape of y to (n_samples,), for example using ravel().\n",
      "  after removing the cwd from sys.path.\n"
     ]
    },
    {
     "name": "stdout",
     "output_type": "stream",
     "text": [
      "0.9434782592218056\n",
      "8\n"
     ]
    },
    {
     "name": "stderr",
     "output_type": "stream",
     "text": [
      "C:\\Users\\iseob\\Anaconda3\\lib\\site-packages\\ipykernel_launcher.py:4: DataConversionWarning: A column-vector y was passed when a 1d array was expected. Please change the shape of y to (n_samples,), for example using ravel().\n",
      "  after removing the cwd from sys.path.\n"
     ]
    },
    {
     "name": "stdout",
     "output_type": "stream",
     "text": [
      "0.9438904453122838\n"
     ]
    },
    {
     "name": "stderr",
     "output_type": "stream",
     "text": [
      "C:\\Users\\iseob\\Anaconda3\\lib\\site-packages\\ipykernel_launcher.py:4: DataConversionWarning: A column-vector y was passed when a 1d array was expected. Please change the shape of y to (n_samples,), for example using ravel().\n",
      "  after removing the cwd from sys.path.\n"
     ]
    },
    {
     "name": "stdout",
     "output_type": "stream",
     "text": [
      "9\n",
      "0.944074941036394\n"
     ]
    },
    {
     "name": "stderr",
     "output_type": "stream",
     "text": [
      "C:\\Users\\iseob\\Anaconda3\\lib\\site-packages\\ipykernel_launcher.py:4: DataConversionWarning: A column-vector y was passed when a 1d array was expected. Please change the shape of y to (n_samples,), for example using ravel().\n",
      "  after removing the cwd from sys.path.\n"
     ]
    },
    {
     "name": "stdout",
     "output_type": "stream",
     "text": [
      "10\n",
      "0.9427751138223636\n"
     ]
    },
    {
     "name": "stderr",
     "output_type": "stream",
     "text": [
      "C:\\Users\\iseob\\Anaconda3\\lib\\site-packages\\ipykernel_launcher.py:4: DataConversionWarning: A column-vector y was passed when a 1d array was expected. Please change the shape of y to (n_samples,), for example using ravel().\n",
      "  after removing the cwd from sys.path.\n"
     ]
    },
    {
     "name": "stdout",
     "output_type": "stream",
     "text": [
      "11\n",
      "0.941654222331689\n"
     ]
    },
    {
     "name": "stderr",
     "output_type": "stream",
     "text": [
      "C:\\Users\\iseob\\Anaconda3\\lib\\site-packages\\ipykernel_launcher.py:4: DataConversionWarning: A column-vector y was passed when a 1d array was expected. Please change the shape of y to (n_samples,), for example using ravel().\n",
      "  after removing the cwd from sys.path.\n"
     ]
    },
    {
     "name": "stdout",
     "output_type": "stream",
     "text": [
      "12\n",
      "0.937245546288732\n"
     ]
    },
    {
     "name": "stderr",
     "output_type": "stream",
     "text": [
      "C:\\Users\\iseob\\Anaconda3\\lib\\site-packages\\ipykernel_launcher.py:4: DataConversionWarning: A column-vector y was passed when a 1d array was expected. Please change the shape of y to (n_samples,), for example using ravel().\n",
      "  after removing the cwd from sys.path.\n"
     ]
    },
    {
     "name": "stdout",
     "output_type": "stream",
     "text": [
      "13\n",
      "0.93609965705915\n"
     ]
    },
    {
     "name": "stderr",
     "output_type": "stream",
     "text": [
      "C:\\Users\\iseob\\Anaconda3\\lib\\site-packages\\ipykernel_launcher.py:4: DataConversionWarning: A column-vector y was passed when a 1d array was expected. Please change the shape of y to (n_samples,), for example using ravel().\n",
      "  after removing the cwd from sys.path.\n"
     ]
    },
    {
     "name": "stdout",
     "output_type": "stream",
     "text": [
      "14\n",
      "0.9299512204708744\n"
     ]
    }
   ],
   "source": [
    "#ищу лучшую глубину\n",
    "for i in range(4, 15):\n",
    "    \n",
    "    dtc3 = RandomForestClassifier(max_depth=i, criterion='entropy')\n",
    "    dtc3.fit(XX_train, yy_train)\n",
    "    predict3 = dtc3.predict(XX_test)\n",
    "    predict_pr3 = dtc3.predict_proba(XX_test)\n",
    "    \n",
    "    print(i)\n",
    "    print(cross_val_score(\n",
    "    dtc3,\n",
    "    df_model_train,\n",
    "    train_target['target'],\n",
    "    scoring='roc_auc',\n",
    "    cv = 10\n",
    "        ).mean())"
   ]
  },
  {
   "cell_type": "code",
   "execution_count": 38,
   "metadata": {},
   "outputs": [
    {
     "data": {
      "text/plain": [
       "0.9443960247596349"
      ]
     },
     "execution_count": 38,
     "metadata": {},
     "output_type": "execute_result"
    }
   ],
   "source": [
    "cross_val_score(\n",
    "    dtc3,\n",
    "    df_model_train,\n",
    "    train_target['target'],\n",
    "    scoring='roc_auc',\n",
    "    cv=10\n",
    ").mean()\n",
    "#0.9373710176762355 - max результат что ловил, когда убрал cons.conf.idx,euribor3m, duration, emp.var.rate, cons.price.idx, pdays\n",
    "#0.9376633227069199 - max результат что ловил, когда оставил только euribor3m, duration, emp.var.rate, cons.price.idx\n",
    "#0.9387787401163525 - max результат что ловил, когда оставил только euribor3m, duration, emp.var.rate, cons.price.idx, pdays (выгрузил в subm 5)"
   ]
  },
  {
   "cell_type": "code",
   "execution_count": 39,
   "metadata": {},
   "outputs": [
    {
     "data": {
      "text/plain": [
       "0.9158544463593815"
      ]
     },
     "execution_count": 39,
     "metadata": {},
     "output_type": "execute_result"
    }
   ],
   "source": [
    "cross_val_score(\n",
    "    dtc4,\n",
    "    df_model_train,\n",
    "    train_target['target'],\n",
    "    scoring='roc_auc',\n",
    "    cv=10\n",
    ").mean()"
   ]
  },
  {
   "cell_type": "code",
   "execution_count": 40,
   "metadata": {},
   "outputs": [
    {
     "data": {
      "text/plain": [
       "0.7067581034326782"
      ]
     },
     "execution_count": 40,
     "metadata": {},
     "output_type": "execute_result"
    }
   ],
   "source": [
    "cross_val_score(\n",
    "    knn,\n",
    "    df_model_train,\n",
    "    train_target['target'],\n",
    "    scoring='roc_auc',\n",
    "    cv=10\n",
    ").mean()"
   ]
  },
  {
   "cell_type": "code",
   "execution_count": 41,
   "metadata": {},
   "outputs": [],
   "source": [
    "dtc5 = RandomForestClassifier(max_depth=9, criterion='entropy')\n",
    "dtc5.fit(df_model_train, train_target['target'])\n",
    "predict_pr5 = dtc5.predict_proba(df_model_test)\n",
    "\n"
   ]
  },
  {
   "cell_type": "code",
   "execution_count": 42,
   "metadata": {},
   "outputs": [
    {
     "data": {
      "text/plain": [
       "array([5.91622115e-02, 1.25651769e-03, 0.00000000e+00, ...,\n",
       "       1.26499249e-03, 6.00353027e-04, 3.24044070e-05])"
      ]
     },
     "execution_count": 42,
     "metadata": {},
     "output_type": "execute_result"
    }
   ],
   "source": [
    "predict_pr5[:,1]"
   ]
  },
  {
   "cell_type": "code",
   "execution_count": 43,
   "metadata": {},
   "outputs": [],
   "source": [
    "df_model_test['target'] = predict_pr5[:,1] "
   ]
  },
  {
   "cell_type": "code",
   "execution_count": 44,
   "metadata": {},
   "outputs": [],
   "source": [
    "pd.DataFrame(df_model_test['target']).to_csv('sample_submission6.csv')"
   ]
  },
  {
   "cell_type": "code",
   "execution_count": null,
   "metadata": {},
   "outputs": [],
   "source": []
  },
  {
   "cell_type": "code",
   "execution_count": null,
   "metadata": {},
   "outputs": [],
   "source": []
  },
  {
   "cell_type": "markdown",
   "metadata": {},
   "source": [
    "### ниже тестировал исключение преобразованных фичей и следил за динамикой качества модели.\n",
    "\n",
    "там где roc_auc по дереву решений или случайному лесу падал на 0,4 и более смотрел, что за признак выкинули.\n",
    "таким образом нашел самые важные признаки и строил модель только на них"
   ]
  },
  {
   "cell_type": "code",
   "execution_count": 345,
   "metadata": {},
   "outputs": [],
   "source": [
    "col = pd.DataFrame(dtc4.coef_).T"
   ]
  },
  {
   "cell_type": "code",
   "execution_count": 346,
   "metadata": {},
   "outputs": [],
   "source": [
    "col1 = pd.DataFrame(XX_train.columns)"
   ]
  },
  {
   "cell_type": "code",
   "execution_count": 347,
   "metadata": {},
   "outputs": [],
   "source": [
    "cols = pd.merge(col1, col, left_index=True, right_index=True)"
   ]
  },
  {
   "cell_type": "code",
   "execution_count": 348,
   "metadata": {},
   "outputs": [],
   "source": [
    "import math\n",
    "cols['0_y'] = cols['0_y'].map(lambda x: math.fabs(x))"
   ]
  },
  {
   "cell_type": "code",
   "execution_count": 349,
   "metadata": {},
   "outputs": [],
   "source": [
    "cols = cols.sort_values('0_y', ascending=True)"
   ]
  },
  {
   "cell_type": "code",
   "execution_count": 350,
   "metadata": {},
   "outputs": [
    {
     "data": {
      "text/html": [
       "<div>\n",
       "<style scoped>\n",
       "    .dataframe tbody tr th:only-of-type {\n",
       "        vertical-align: middle;\n",
       "    }\n",
       "\n",
       "    .dataframe tbody tr th {\n",
       "        vertical-align: top;\n",
       "    }\n",
       "\n",
       "    .dataframe thead th {\n",
       "        text-align: right;\n",
       "    }\n",
       "</style>\n",
       "<table border=\"1\" class=\"dataframe\">\n",
       "  <thead>\n",
       "    <tr style=\"text-align: right;\">\n",
       "      <th></th>\n",
       "      <th>0_x</th>\n",
       "      <th>0_y</th>\n",
       "    </tr>\n",
       "  </thead>\n",
       "  <tbody>\n",
       "    <tr>\n",
       "      <th>24</th>\n",
       "      <td>default_yes</td>\n",
       "      <td>0.000019</td>\n",
       "    </tr>\n",
       "    <tr>\n",
       "      <th>18</th>\n",
       "      <td>education_illiterate</td>\n",
       "      <td>0.000338</td>\n",
       "    </tr>\n",
       "    <tr>\n",
       "      <th>3</th>\n",
       "      <td>pdays</td>\n",
       "      <td>0.001651</td>\n",
       "    </tr>\n",
       "    <tr>\n",
       "      <th>29</th>\n",
       "      <td>loan_unknown</td>\n",
       "      <td>0.002141</td>\n",
       "    </tr>\n",
       "    <tr>\n",
       "      <th>26</th>\n",
       "      <td>housing_unknown</td>\n",
       "      <td>0.002141</td>\n",
       "    </tr>\n",
       "    <tr>\n",
       "      <th>13</th>\n",
       "      <td>marital_unknown</td>\n",
       "      <td>0.002220</td>\n",
       "    </tr>\n",
       "    <tr>\n",
       "      <th>0</th>\n",
       "      <td>age</td>\n",
       "      <td>0.004278</td>\n",
       "    </tr>\n",
       "    <tr>\n",
       "      <th>1</th>\n",
       "      <td>duration</td>\n",
       "      <td>0.004313</td>\n",
       "    </tr>\n",
       "    <tr>\n",
       "      <th>9</th>\n",
       "      <td>nr.employed</td>\n",
       "      <td>0.006323</td>\n",
       "    </tr>\n",
       "    <tr>\n",
       "      <th>10</th>\n",
       "      <td>marital_divorced</td>\n",
       "      <td>0.008664</td>\n",
       "    </tr>\n",
       "    <tr>\n",
       "      <th>21</th>\n",
       "      <td>education_unknown</td>\n",
       "      <td>0.009836</td>\n",
       "    </tr>\n",
       "    <tr>\n",
       "      <th>19</th>\n",
       "      <td>education_professional.course</td>\n",
       "      <td>0.012708</td>\n",
       "    </tr>\n",
       "    <tr>\n",
       "      <th>35</th>\n",
       "      <td>poutcome_success</td>\n",
       "      <td>0.013405</td>\n",
       "    </tr>\n",
       "    <tr>\n",
       "      <th>2</th>\n",
       "      <td>campaign</td>\n",
       "      <td>0.014919</td>\n",
       "    </tr>\n",
       "    <tr>\n",
       "      <th>27</th>\n",
       "      <td>housing_yes</td>\n",
       "      <td>0.015380</td>\n",
       "    </tr>\n",
       "    <tr>\n",
       "      <th>30</th>\n",
       "      <td>loan_yes</td>\n",
       "      <td>0.019055</td>\n",
       "    </tr>\n",
       "    <tr>\n",
       "      <th>15</th>\n",
       "      <td>education_basic.6y</td>\n",
       "      <td>0.019217</td>\n",
       "    </tr>\n",
       "    <tr>\n",
       "      <th>25</th>\n",
       "      <td>housing_no</td>\n",
       "      <td>0.020548</td>\n",
       "    </tr>\n",
       "    <tr>\n",
       "      <th>14</th>\n",
       "      <td>education_basic.4y</td>\n",
       "      <td>0.022678</td>\n",
       "    </tr>\n",
       "    <tr>\n",
       "      <th>28</th>\n",
       "      <td>loan_no</td>\n",
       "      <td>0.024223</td>\n",
       "    </tr>\n",
       "    <tr>\n",
       "      <th>7</th>\n",
       "      <td>cons.conf.idx</td>\n",
       "      <td>0.037622</td>\n",
       "    </tr>\n",
       "    <tr>\n",
       "      <th>17</th>\n",
       "      <td>education_high.school</td>\n",
       "      <td>0.042656</td>\n",
       "    </tr>\n",
       "    <tr>\n",
       "      <th>16</th>\n",
       "      <td>education_basic.9y</td>\n",
       "      <td>0.045200</td>\n",
       "    </tr>\n",
       "    <tr>\n",
       "      <th>12</th>\n",
       "      <td>marital_single</td>\n",
       "      <td>0.057807</td>\n",
       "    </tr>\n",
       "    <tr>\n",
       "      <th>11</th>\n",
       "      <td>marital_married</td>\n",
       "      <td>0.061224</td>\n",
       "    </tr>\n",
       "    <tr>\n",
       "      <th>4</th>\n",
       "      <td>previous</td>\n",
       "      <td>0.069568</td>\n",
       "    </tr>\n",
       "    <tr>\n",
       "      <th>34</th>\n",
       "      <td>poutcome_nonexistent</td>\n",
       "      <td>0.072904</td>\n",
       "    </tr>\n",
       "    <tr>\n",
       "      <th>33</th>\n",
       "      <td>poutcome_failure</td>\n",
       "      <td>0.083282</td>\n",
       "    </tr>\n",
       "    <tr>\n",
       "      <th>23</th>\n",
       "      <td>default_unknown</td>\n",
       "      <td>0.099937</td>\n",
       "    </tr>\n",
       "    <tr>\n",
       "      <th>22</th>\n",
       "      <td>default_no</td>\n",
       "      <td>0.102983</td>\n",
       "    </tr>\n",
       "    <tr>\n",
       "      <th>20</th>\n",
       "      <td>education_university.degree</td>\n",
       "      <td>0.110573</td>\n",
       "    </tr>\n",
       "    <tr>\n",
       "      <th>32</th>\n",
       "      <td>contact_telephone</td>\n",
       "      <td>0.126530</td>\n",
       "    </tr>\n",
       "    <tr>\n",
       "      <th>31</th>\n",
       "      <td>contact_cellular</td>\n",
       "      <td>0.129558</td>\n",
       "    </tr>\n",
       "    <tr>\n",
       "      <th>5</th>\n",
       "      <td>emp.var.rate</td>\n",
       "      <td>0.183570</td>\n",
       "    </tr>\n",
       "    <tr>\n",
       "      <th>8</th>\n",
       "      <td>euribor3m</td>\n",
       "      <td>0.194648</td>\n",
       "    </tr>\n",
       "    <tr>\n",
       "      <th>6</th>\n",
       "      <td>cons.price.idx</td>\n",
       "      <td>0.343998</td>\n",
       "    </tr>\n",
       "  </tbody>\n",
       "</table>\n",
       "</div>"
      ],
      "text/plain": [
       "                              0_x       0_y\n",
       "24                    default_yes  0.000019\n",
       "18           education_illiterate  0.000338\n",
       "3                           pdays  0.001651\n",
       "29                   loan_unknown  0.002141\n",
       "26                housing_unknown  0.002141\n",
       "13                marital_unknown  0.002220\n",
       "0                             age  0.004278\n",
       "1                        duration  0.004313\n",
       "9                     nr.employed  0.006323\n",
       "10               marital_divorced  0.008664\n",
       "21              education_unknown  0.009836\n",
       "19  education_professional.course  0.012708\n",
       "35               poutcome_success  0.013405\n",
       "2                        campaign  0.014919\n",
       "27                    housing_yes  0.015380\n",
       "30                       loan_yes  0.019055\n",
       "15             education_basic.6y  0.019217\n",
       "25                     housing_no  0.020548\n",
       "14             education_basic.4y  0.022678\n",
       "28                        loan_no  0.024223\n",
       "7                   cons.conf.idx  0.037622\n",
       "17          education_high.school  0.042656\n",
       "16             education_basic.9y  0.045200\n",
       "12                 marital_single  0.057807\n",
       "11                marital_married  0.061224\n",
       "4                        previous  0.069568\n",
       "34           poutcome_nonexistent  0.072904\n",
       "33               poutcome_failure  0.083282\n",
       "23                default_unknown  0.099937\n",
       "22                     default_no  0.102983\n",
       "20    education_university.degree  0.110573\n",
       "32              contact_telephone  0.126530\n",
       "31               contact_cellular  0.129558\n",
       "5                    emp.var.rate  0.183570\n",
       "8                       euribor3m  0.194648\n",
       "6                  cons.price.idx  0.343998"
      ]
     },
     "execution_count": 350,
     "metadata": {},
     "output_type": "execute_result"
    }
   ],
   "source": [
    "cols"
   ]
  },
  {
   "cell_type": "code",
   "execution_count": 351,
   "metadata": {},
   "outputs": [],
   "source": [
    "spisok = list(cols['0_x'])"
   ]
  },
  {
   "cell_type": "code",
   "execution_count": 369,
   "metadata": {},
   "outputs": [
    {
     "data": {
      "text/plain": [
       "'cons.price.idx'"
      ]
     },
     "execution_count": 369,
     "metadata": {},
     "output_type": "execute_result"
    }
   ],
   "source": [
    "spisok[33]\n",
    "#euribor3m\n",
    "#duration"
   ]
  },
  {
   "cell_type": "code",
   "execution_count": 368,
   "metadata": {},
   "outputs": [
    {
     "name": "stdout",
     "output_type": "stream",
     "text": [
      "['default_yes']\n",
      "['default_yes', 'education_illiterate']\n",
      "['default_yes', 'education_illiterate', 'pdays']\n",
      "['default_yes', 'education_illiterate', 'pdays', 'loan_unknown']\n",
      "['default_yes', 'education_illiterate', 'pdays', 'loan_unknown', 'housing_unknown']\n",
      "['default_yes', 'education_illiterate', 'pdays', 'loan_unknown', 'housing_unknown', 'marital_unknown']\n",
      "['default_yes', 'education_illiterate', 'pdays', 'loan_unknown', 'housing_unknown', 'marital_unknown', 'age']\n",
      "['default_yes', 'education_illiterate', 'pdays', 'loan_unknown', 'housing_unknown', 'marital_unknown', 'age', 'nr.employed']\n",
      "['default_yes', 'education_illiterate', 'pdays', 'loan_unknown', 'housing_unknown', 'marital_unknown', 'age', 'nr.employed', 'marital_divorced']\n",
      "['default_yes', 'education_illiterate', 'pdays', 'loan_unknown', 'housing_unknown', 'marital_unknown', 'age', 'nr.employed', 'marital_divorced', 'education_unknown']\n",
      "['default_yes', 'education_illiterate', 'pdays', 'loan_unknown', 'housing_unknown', 'marital_unknown', 'age', 'nr.employed', 'marital_divorced', 'education_unknown', 'education_professional.course']\n",
      "['default_yes', 'education_illiterate', 'pdays', 'loan_unknown', 'housing_unknown', 'marital_unknown', 'age', 'nr.employed', 'marital_divorced', 'education_unknown', 'education_professional.course', 'poutcome_success']\n",
      "['default_yes', 'education_illiterate', 'pdays', 'loan_unknown', 'housing_unknown', 'marital_unknown', 'age', 'nr.employed', 'marital_divorced', 'education_unknown', 'education_professional.course', 'poutcome_success', 'campaign']\n",
      "['default_yes', 'education_illiterate', 'pdays', 'loan_unknown', 'housing_unknown', 'marital_unknown', 'age', 'nr.employed', 'marital_divorced', 'education_unknown', 'education_professional.course', 'poutcome_success', 'campaign', 'housing_yes']\n",
      "['default_yes', 'education_illiterate', 'pdays', 'loan_unknown', 'housing_unknown', 'marital_unknown', 'age', 'nr.employed', 'marital_divorced', 'education_unknown', 'education_professional.course', 'poutcome_success', 'campaign', 'housing_yes', 'loan_yes']\n",
      "['default_yes', 'education_illiterate', 'pdays', 'loan_unknown', 'housing_unknown', 'marital_unknown', 'age', 'nr.employed', 'marital_divorced', 'education_unknown', 'education_professional.course', 'poutcome_success', 'campaign', 'housing_yes', 'loan_yes', 'education_basic.6y']\n",
      "['default_yes', 'education_illiterate', 'pdays', 'loan_unknown', 'housing_unknown', 'marital_unknown', 'age', 'nr.employed', 'marital_divorced', 'education_unknown', 'education_professional.course', 'poutcome_success', 'campaign', 'housing_yes', 'loan_yes', 'education_basic.6y', 'housing_no']\n",
      "['default_yes', 'education_illiterate', 'pdays', 'loan_unknown', 'housing_unknown', 'marital_unknown', 'age', 'nr.employed', 'marital_divorced', 'education_unknown', 'education_professional.course', 'poutcome_success', 'campaign', 'housing_yes', 'loan_yes', 'education_basic.6y', 'housing_no', 'education_basic.4y']\n",
      "['default_yes', 'education_illiterate', 'pdays', 'loan_unknown', 'housing_unknown', 'marital_unknown', 'age', 'nr.employed', 'marital_divorced', 'education_unknown', 'education_professional.course', 'poutcome_success', 'campaign', 'housing_yes', 'loan_yes', 'education_basic.6y', 'housing_no', 'education_basic.4y', 'loan_no']\n",
      "['default_yes', 'education_illiterate', 'pdays', 'loan_unknown', 'housing_unknown', 'marital_unknown', 'age', 'nr.employed', 'marital_divorced', 'education_unknown', 'education_professional.course', 'poutcome_success', 'campaign', 'housing_yes', 'loan_yes', 'education_basic.6y', 'housing_no', 'education_basic.4y', 'loan_no', 'cons.conf.idx']\n",
      "['default_yes', 'education_illiterate', 'pdays', 'loan_unknown', 'housing_unknown', 'marital_unknown', 'age', 'nr.employed', 'marital_divorced', 'education_unknown', 'education_professional.course', 'poutcome_success', 'campaign', 'housing_yes', 'loan_yes', 'education_basic.6y', 'housing_no', 'education_basic.4y', 'loan_no', 'cons.conf.idx', 'education_high.school']\n",
      "['default_yes', 'education_illiterate', 'pdays', 'loan_unknown', 'housing_unknown', 'marital_unknown', 'age', 'nr.employed', 'marital_divorced', 'education_unknown', 'education_professional.course', 'poutcome_success', 'campaign', 'housing_yes', 'loan_yes', 'education_basic.6y', 'housing_no', 'education_basic.4y', 'loan_no', 'cons.conf.idx', 'education_high.school', 'education_basic.9y']\n",
      "['default_yes', 'education_illiterate', 'pdays', 'loan_unknown', 'housing_unknown', 'marital_unknown', 'age', 'nr.employed', 'marital_divorced', 'education_unknown', 'education_professional.course', 'poutcome_success', 'campaign', 'housing_yes', 'loan_yes', 'education_basic.6y', 'housing_no', 'education_basic.4y', 'loan_no', 'cons.conf.idx', 'education_high.school', 'education_basic.9y', 'marital_single']\n",
      "['default_yes', 'education_illiterate', 'pdays', 'loan_unknown', 'housing_unknown', 'marital_unknown', 'age', 'nr.employed', 'marital_divorced', 'education_unknown', 'education_professional.course', 'poutcome_success', 'campaign', 'housing_yes', 'loan_yes', 'education_basic.6y', 'housing_no', 'education_basic.4y', 'loan_no', 'cons.conf.idx', 'education_high.school', 'education_basic.9y', 'marital_single', 'marital_married']\n",
      "['default_yes', 'education_illiterate', 'pdays', 'loan_unknown', 'housing_unknown', 'marital_unknown', 'age', 'nr.employed', 'marital_divorced', 'education_unknown', 'education_professional.course', 'poutcome_success', 'campaign', 'housing_yes', 'loan_yes', 'education_basic.6y', 'housing_no', 'education_basic.4y', 'loan_no', 'cons.conf.idx', 'education_high.school', 'education_basic.9y', 'marital_single', 'marital_married', 'previous']\n",
      "['default_yes', 'education_illiterate', 'pdays', 'loan_unknown', 'housing_unknown', 'marital_unknown', 'age', 'nr.employed', 'marital_divorced', 'education_unknown', 'education_professional.course', 'poutcome_success', 'campaign', 'housing_yes', 'loan_yes', 'education_basic.6y', 'housing_no', 'education_basic.4y', 'loan_no', 'cons.conf.idx', 'education_high.school', 'education_basic.9y', 'marital_single', 'marital_married', 'previous', 'poutcome_nonexistent']\n",
      "['default_yes', 'education_illiterate', 'pdays', 'loan_unknown', 'housing_unknown', 'marital_unknown', 'age', 'nr.employed', 'marital_divorced', 'education_unknown', 'education_professional.course', 'poutcome_success', 'campaign', 'housing_yes', 'loan_yes', 'education_basic.6y', 'housing_no', 'education_basic.4y', 'loan_no', 'cons.conf.idx', 'education_high.school', 'education_basic.9y', 'marital_single', 'marital_married', 'previous', 'poutcome_nonexistent', 'poutcome_failure']\n",
      "['default_yes', 'education_illiterate', 'pdays', 'loan_unknown', 'housing_unknown', 'marital_unknown', 'age', 'nr.employed', 'marital_divorced', 'education_unknown', 'education_professional.course', 'poutcome_success', 'campaign', 'housing_yes', 'loan_yes', 'education_basic.6y', 'housing_no', 'education_basic.4y', 'loan_no', 'cons.conf.idx', 'education_high.school', 'education_basic.9y', 'marital_single', 'marital_married', 'previous', 'poutcome_nonexistent', 'poutcome_failure', 'default_unknown']\n",
      "['default_yes', 'education_illiterate', 'pdays', 'loan_unknown', 'housing_unknown', 'marital_unknown', 'age', 'nr.employed', 'marital_divorced', 'education_unknown', 'education_professional.course', 'poutcome_success', 'campaign', 'housing_yes', 'loan_yes', 'education_basic.6y', 'housing_no', 'education_basic.4y', 'loan_no', 'cons.conf.idx', 'education_high.school', 'education_basic.9y', 'marital_single', 'marital_married', 'previous', 'poutcome_nonexistent', 'poutcome_failure', 'default_unknown', 'default_no']\n",
      "['default_yes', 'education_illiterate', 'pdays', 'loan_unknown', 'housing_unknown', 'marital_unknown', 'age', 'nr.employed', 'marital_divorced', 'education_unknown', 'education_professional.course', 'poutcome_success', 'campaign', 'housing_yes', 'loan_yes', 'education_basic.6y', 'housing_no', 'education_basic.4y', 'loan_no', 'cons.conf.idx', 'education_high.school', 'education_basic.9y', 'marital_single', 'marital_married', 'previous', 'poutcome_nonexistent', 'poutcome_failure', 'default_unknown', 'default_no', 'education_university.degree']\n",
      "['default_yes', 'education_illiterate', 'pdays', 'loan_unknown', 'housing_unknown', 'marital_unknown', 'age', 'nr.employed', 'marital_divorced', 'education_unknown', 'education_professional.course', 'poutcome_success', 'campaign', 'housing_yes', 'loan_yes', 'education_basic.6y', 'housing_no', 'education_basic.4y', 'loan_no', 'cons.conf.idx', 'education_high.school', 'education_basic.9y', 'marital_single', 'marital_married', 'previous', 'poutcome_nonexistent', 'poutcome_failure', 'default_unknown', 'default_no', 'education_university.degree', 'contact_telephone']\n",
      "['default_yes', 'education_illiterate', 'pdays', 'loan_unknown', 'housing_unknown', 'marital_unknown', 'age', 'nr.employed', 'marital_divorced', 'education_unknown', 'education_professional.course', 'poutcome_success', 'campaign', 'housing_yes', 'loan_yes', 'education_basic.6y', 'housing_no', 'education_basic.4y', 'loan_no', 'cons.conf.idx', 'education_high.school', 'education_basic.9y', 'marital_single', 'marital_married', 'previous', 'poutcome_nonexistent', 'poutcome_failure', 'default_unknown', 'default_no', 'education_university.degree', 'contact_telephone', 'contact_cellular']\n",
      "['default_yes', 'education_illiterate', 'pdays', 'loan_unknown', 'housing_unknown', 'marital_unknown', 'age', 'nr.employed', 'marital_divorced', 'education_unknown', 'education_professional.course', 'poutcome_success', 'campaign', 'housing_yes', 'loan_yes', 'education_basic.6y', 'housing_no', 'education_basic.4y', 'loan_no', 'cons.conf.idx', 'education_high.school', 'education_basic.9y', 'marital_single', 'marital_married', 'previous', 'poutcome_nonexistent', 'poutcome_failure', 'default_unknown', 'default_no', 'education_university.degree', 'contact_telephone', 'contact_cellular', 'emp.var.rate']\n"
     ]
    }
   ],
   "source": [
    "for i in range(1, len(spisok)):\n",
    "    print(spisok[:i])"
   ]
  },
  {
   "cell_type": "code",
   "execution_count": 370,
   "metadata": {},
   "outputs": [
    {
     "name": "stdout",
     "output_type": "stream",
     "text": [
      "(16557, 35)\n",
      "(8155, 35)\n",
      "(16557, 1)\n",
      "(8155, 1)\n",
      "1\n"
     ]
    },
    {
     "name": "stderr",
     "output_type": "stream",
     "text": [
      "C:\\Users\\iseob\\Anaconda3\\lib\\site-packages\\ipykernel_launcher.py:28: DataConversionWarning: A column-vector y was passed when a 1d array was expected. Please change the shape of y to (n_samples,), for example using ravel().\n",
      "C:\\Users\\iseob\\Anaconda3\\lib\\site-packages\\sklearn\\utils\\validation.py:578: DataConversionWarning: A column-vector y was passed when a 1d array was expected. Please change the shape of y to (n_samples, ), for example using ravel().\n",
      "  y = column_or_1d(y, warn=True)\n",
      "C:\\Users\\iseob\\Anaconda3\\lib\\site-packages\\ipykernel_launcher.py:40: DataConversionWarning: A column-vector y was passed when a 1d array was expected. Please change the shape of y to (n_samples, ), for example using ravel().\n"
     ]
    },
    {
     "name": "stdout",
     "output_type": "stream",
     "text": [
      "0.9322393153852643\n",
      "0.9229032033732081\n",
      "0.921825672891298\n",
      "0.7103475080284285\n",
      "(16557, 34)\n",
      "(8155, 34)\n",
      "(16557, 1)\n",
      "(8155, 1)\n",
      "2\n"
     ]
    },
    {
     "name": "stderr",
     "output_type": "stream",
     "text": [
      "C:\\Users\\iseob\\Anaconda3\\lib\\site-packages\\ipykernel_launcher.py:28: DataConversionWarning: A column-vector y was passed when a 1d array was expected. Please change the shape of y to (n_samples,), for example using ravel().\n",
      "C:\\Users\\iseob\\Anaconda3\\lib\\site-packages\\sklearn\\utils\\validation.py:578: DataConversionWarning: A column-vector y was passed when a 1d array was expected. Please change the shape of y to (n_samples, ), for example using ravel().\n",
      "  y = column_or_1d(y, warn=True)\n",
      "C:\\Users\\iseob\\Anaconda3\\lib\\site-packages\\ipykernel_launcher.py:40: DataConversionWarning: A column-vector y was passed when a 1d array was expected. Please change the shape of y to (n_samples, ), for example using ravel().\n"
     ]
    },
    {
     "name": "stdout",
     "output_type": "stream",
     "text": [
      "0.9322393153852643\n",
      "0.9248360537525301\n",
      "0.9220026630877237\n",
      "0.7103475080284285\n",
      "(16557, 33)\n",
      "(8155, 33)\n",
      "(16557, 1)\n",
      "(8155, 1)\n",
      "3\n"
     ]
    },
    {
     "name": "stderr",
     "output_type": "stream",
     "text": [
      "C:\\Users\\iseob\\Anaconda3\\lib\\site-packages\\ipykernel_launcher.py:28: DataConversionWarning: A column-vector y was passed when a 1d array was expected. Please change the shape of y to (n_samples,), for example using ravel().\n",
      "C:\\Users\\iseob\\Anaconda3\\lib\\site-packages\\sklearn\\utils\\validation.py:578: DataConversionWarning: A column-vector y was passed when a 1d array was expected. Please change the shape of y to (n_samples, ), for example using ravel().\n",
      "  y = column_or_1d(y, warn=True)\n",
      "C:\\Users\\iseob\\Anaconda3\\lib\\site-packages\\ipykernel_launcher.py:40: DataConversionWarning: A column-vector y was passed when a 1d array was expected. Please change the shape of y to (n_samples, ), for example using ravel().\n"
     ]
    },
    {
     "name": "stdout",
     "output_type": "stream",
     "text": [
      "0.9321324997481015\n",
      "0.9234046996558384\n",
      "0.916810257868088\n",
      "0.700371156514844\n",
      "(16557, 32)\n",
      "(8155, 32)\n",
      "(16557, 1)\n",
      "(8155, 1)\n",
      "4\n"
     ]
    },
    {
     "name": "stderr",
     "output_type": "stream",
     "text": [
      "C:\\Users\\iseob\\Anaconda3\\lib\\site-packages\\ipykernel_launcher.py:28: DataConversionWarning: A column-vector y was passed when a 1d array was expected. Please change the shape of y to (n_samples,), for example using ravel().\n",
      "C:\\Users\\iseob\\Anaconda3\\lib\\site-packages\\sklearn\\utils\\validation.py:578: DataConversionWarning: A column-vector y was passed when a 1d array was expected. Please change the shape of y to (n_samples, ), for example using ravel().\n",
      "  y = column_or_1d(y, warn=True)\n",
      "C:\\Users\\iseob\\Anaconda3\\lib\\site-packages\\ipykernel_launcher.py:40: DataConversionWarning: A column-vector y was passed when a 1d array was expected. Please change the shape of y to (n_samples, ), for example using ravel().\n"
     ]
    },
    {
     "name": "stdout",
     "output_type": "stream",
     "text": [
      "0.932124458735656\n",
      "0.9225585675346488\n",
      "0.9173089121091241\n",
      "0.7004623661866266\n",
      "(16557, 31)\n",
      "(8155, 31)\n",
      "(16557, 1)\n",
      "(8155, 1)\n",
      "5\n"
     ]
    },
    {
     "name": "stderr",
     "output_type": "stream",
     "text": [
      "C:\\Users\\iseob\\Anaconda3\\lib\\site-packages\\ipykernel_launcher.py:28: DataConversionWarning: A column-vector y was passed when a 1d array was expected. Please change the shape of y to (n_samples,), for example using ravel().\n",
      "C:\\Users\\iseob\\Anaconda3\\lib\\site-packages\\sklearn\\utils\\validation.py:578: DataConversionWarning: A column-vector y was passed when a 1d array was expected. Please change the shape of y to (n_samples, ), for example using ravel().\n",
      "  y = column_or_1d(y, warn=True)\n",
      "C:\\Users\\iseob\\Anaconda3\\lib\\site-packages\\ipykernel_launcher.py:40: DataConversionWarning: A column-vector y was passed when a 1d array was expected. Please change the shape of y to (n_samples, ), for example using ravel().\n"
     ]
    },
    {
     "name": "stdout",
     "output_type": "stream",
     "text": [
      "0.9321324997481015\n",
      "0.9273731184896498\n",
      "0.916889990557998\n",
      "0.700214089815961\n",
      "(16557, 30)\n",
      "(8155, 30)\n",
      "(16557, 1)\n",
      "(8155, 1)\n",
      "6\n"
     ]
    },
    {
     "name": "stderr",
     "output_type": "stream",
     "text": [
      "C:\\Users\\iseob\\Anaconda3\\lib\\site-packages\\ipykernel_launcher.py:28: DataConversionWarning: A column-vector y was passed when a 1d array was expected. Please change the shape of y to (n_samples,), for example using ravel().\n",
      "C:\\Users\\iseob\\Anaconda3\\lib\\site-packages\\sklearn\\utils\\validation.py:578: DataConversionWarning: A column-vector y was passed when a 1d array was expected. Please change the shape of y to (n_samples, ), for example using ravel().\n",
      "  y = column_or_1d(y, warn=True)\n",
      "C:\\Users\\iseob\\Anaconda3\\lib\\site-packages\\ipykernel_launcher.py:40: DataConversionWarning: A column-vector y was passed when a 1d array was expected. Please change the shape of y to (n_samples, ), for example using ravel().\n"
     ]
    },
    {
     "name": "stdout",
     "output_type": "stream",
     "text": [
      "0.932124458735656\n",
      "0.9270038753489542\n",
      "0.9171175963236328\n",
      "0.700214089815961\n",
      "(16557, 29)\n",
      "(8155, 29)\n",
      "(16557, 1)\n",
      "(8155, 1)\n",
      "7\n"
     ]
    },
    {
     "name": "stderr",
     "output_type": "stream",
     "text": [
      "C:\\Users\\iseob\\Anaconda3\\lib\\site-packages\\ipykernel_launcher.py:28: DataConversionWarning: A column-vector y was passed when a 1d array was expected. Please change the shape of y to (n_samples,), for example using ravel().\n",
      "C:\\Users\\iseob\\Anaconda3\\lib\\site-packages\\sklearn\\utils\\validation.py:578: DataConversionWarning: A column-vector y was passed when a 1d array was expected. Please change the shape of y to (n_samples, ), for example using ravel().\n",
      "  y = column_or_1d(y, warn=True)\n",
      "C:\\Users\\iseob\\Anaconda3\\lib\\site-packages\\ipykernel_launcher.py:40: DataConversionWarning: A column-vector y was passed when a 1d array was expected. Please change the shape of y to (n_samples, ), for example using ravel().\n"
     ]
    },
    {
     "name": "stdout",
     "output_type": "stream",
     "text": [
      "0.9320572260136458\n",
      "0.9245691471312704\n",
      "0.917335516190605\n",
      "0.702500677696638\n",
      "(16557, 28)\n",
      "(8155, 28)\n",
      "(16557, 1)\n",
      "(8155, 1)\n",
      "8\n"
     ]
    },
    {
     "name": "stderr",
     "output_type": "stream",
     "text": [
      "C:\\Users\\iseob\\Anaconda3\\lib\\site-packages\\ipykernel_launcher.py:28: DataConversionWarning: A column-vector y was passed when a 1d array was expected. Please change the shape of y to (n_samples,), for example using ravel().\n",
      "C:\\Users\\iseob\\Anaconda3\\lib\\site-packages\\sklearn\\utils\\validation.py:578: DataConversionWarning: A column-vector y was passed when a 1d array was expected. Please change the shape of y to (n_samples, ), for example using ravel().\n",
      "  y = column_or_1d(y, warn=True)\n",
      "C:\\Users\\iseob\\Anaconda3\\lib\\site-packages\\ipykernel_launcher.py:40: DataConversionWarning: A column-vector y was passed when a 1d array was expected. Please change the shape of y to (n_samples, ), for example using ravel().\n"
     ]
    },
    {
     "name": "stdout",
     "output_type": "stream",
     "text": [
      "0.9313449198675865\n",
      "0.9295825563267348\n",
      "0.9176839146939739\n",
      "0.6969920992309081\n",
      "(16557, 27)\n",
      "(8155, 27)\n",
      "(16557, 1)\n",
      "(8155, 1)\n",
      "9\n"
     ]
    },
    {
     "name": "stderr",
     "output_type": "stream",
     "text": [
      "C:\\Users\\iseob\\Anaconda3\\lib\\site-packages\\ipykernel_launcher.py:28: DataConversionWarning: A column-vector y was passed when a 1d array was expected. Please change the shape of y to (n_samples,), for example using ravel().\n",
      "C:\\Users\\iseob\\Anaconda3\\lib\\site-packages\\sklearn\\utils\\validation.py:578: DataConversionWarning: A column-vector y was passed when a 1d array was expected. Please change the shape of y to (n_samples, ), for example using ravel().\n",
      "  y = column_or_1d(y, warn=True)\n",
      "C:\\Users\\iseob\\Anaconda3\\lib\\site-packages\\ipykernel_launcher.py:40: DataConversionWarning: A column-vector y was passed when a 1d array was expected. Please change the shape of y to (n_samples, ), for example using ravel().\n"
     ]
    },
    {
     "name": "stdout",
     "output_type": "stream",
     "text": [
      "0.9313434489116122\n",
      "0.9266317085404927\n",
      "0.9176667639294432\n",
      "0.6967672569220412\n",
      "(16557, 26)\n",
      "(8155, 26)\n",
      "(16557, 1)\n",
      "(8155, 1)\n",
      "10\n"
     ]
    },
    {
     "name": "stderr",
     "output_type": "stream",
     "text": [
      "C:\\Users\\iseob\\Anaconda3\\lib\\site-packages\\ipykernel_launcher.py:28: DataConversionWarning: A column-vector y was passed when a 1d array was expected. Please change the shape of y to (n_samples,), for example using ravel().\n",
      "C:\\Users\\iseob\\Anaconda3\\lib\\site-packages\\sklearn\\utils\\validation.py:578: DataConversionWarning: A column-vector y was passed when a 1d array was expected. Please change the shape of y to (n_samples, ), for example using ravel().\n",
      "  y = column_or_1d(y, warn=True)\n",
      "C:\\Users\\iseob\\Anaconda3\\lib\\site-packages\\ipykernel_launcher.py:40: DataConversionWarning: A column-vector y was passed when a 1d array was expected. Please change the shape of y to (n_samples, ), for example using ravel().\n"
     ]
    },
    {
     "name": "stdout",
     "output_type": "stream",
     "text": [
      "0.9313434489116122\n",
      "0.9293471105530253\n",
      "0.9175048775274917\n",
      "0.696588658893951\n",
      "(16557, 25)\n",
      "(8155, 25)\n",
      "(16557, 1)\n",
      "(8155, 1)\n",
      "11\n"
     ]
    },
    {
     "name": "stderr",
     "output_type": "stream",
     "text": [
      "C:\\Users\\iseob\\Anaconda3\\lib\\site-packages\\ipykernel_launcher.py:28: DataConversionWarning: A column-vector y was passed when a 1d array was expected. Please change the shape of y to (n_samples,), for example using ravel().\n",
      "C:\\Users\\iseob\\Anaconda3\\lib\\site-packages\\sklearn\\utils\\validation.py:578: DataConversionWarning: A column-vector y was passed when a 1d array was expected. Please change the shape of y to (n_samples, ), for example using ravel().\n",
      "  y = column_or_1d(y, warn=True)\n",
      "C:\\Users\\iseob\\Anaconda3\\lib\\site-packages\\ipykernel_launcher.py:40: DataConversionWarning: A column-vector y was passed when a 1d array was expected. Please change the shape of y to (n_samples, ), for example using ravel().\n"
     ]
    },
    {
     "name": "stdout",
     "output_type": "stream",
     "text": [
      "0.9313664121687666\n",
      "0.9313285972612759\n",
      "0.917776531206863\n",
      "0.6976899562055411\n",
      "(16557, 24)\n",
      "(8155, 24)\n",
      "(16557, 1)\n",
      "(8155, 1)\n",
      "12\n"
     ]
    },
    {
     "name": "stderr",
     "output_type": "stream",
     "text": [
      "C:\\Users\\iseob\\Anaconda3\\lib\\site-packages\\ipykernel_launcher.py:28: DataConversionWarning: A column-vector y was passed when a 1d array was expected. Please change the shape of y to (n_samples,), for example using ravel().\n",
      "C:\\Users\\iseob\\Anaconda3\\lib\\site-packages\\sklearn\\utils\\validation.py:578: DataConversionWarning: A column-vector y was passed when a 1d array was expected. Please change the shape of y to (n_samples, ), for example using ravel().\n",
      "  y = column_or_1d(y, warn=True)\n",
      "C:\\Users\\iseob\\Anaconda3\\lib\\site-packages\\ipykernel_launcher.py:40: DataConversionWarning: A column-vector y was passed when a 1d array was expected. Please change the shape of y to (n_samples, ), for example using ravel().\n"
     ]
    },
    {
     "name": "stdout",
     "output_type": "stream",
     "text": [
      "0.9308130572247508\n",
      "0.9253454108675789\n",
      "0.9177964197016448\n",
      "0.697118609066097\n",
      "(16557, 23)\n",
      "(8155, 23)\n",
      "(16557, 1)\n",
      "(8155, 1)\n",
      "13\n"
     ]
    },
    {
     "name": "stderr",
     "output_type": "stream",
     "text": [
      "C:\\Users\\iseob\\Anaconda3\\lib\\site-packages\\ipykernel_launcher.py:28: DataConversionWarning: A column-vector y was passed when a 1d array was expected. Please change the shape of y to (n_samples,), for example using ravel().\n",
      "C:\\Users\\iseob\\Anaconda3\\lib\\site-packages\\sklearn\\utils\\validation.py:578: DataConversionWarning: A column-vector y was passed when a 1d array was expected. Please change the shape of y to (n_samples, ), for example using ravel().\n",
      "  y = column_or_1d(y, warn=True)\n",
      "C:\\Users\\iseob\\Anaconda3\\lib\\site-packages\\ipykernel_launcher.py:40: DataConversionWarning: A column-vector y was passed when a 1d array was expected. Please change the shape of y to (n_samples, ), for example using ravel().\n"
     ]
    },
    {
     "name": "stdout",
     "output_type": "stream",
     "text": [
      "0.9308377365972085\n",
      "0.9257895646236204\n",
      "0.9175956848550044\n",
      "0.7003995446661626\n",
      "(16557, 22)\n",
      "(8155, 22)\n",
      "(16557, 1)\n",
      "(8155, 1)\n",
      "14\n"
     ]
    },
    {
     "name": "stderr",
     "output_type": "stream",
     "text": [
      "C:\\Users\\iseob\\Anaconda3\\lib\\site-packages\\ipykernel_launcher.py:28: DataConversionWarning: A column-vector y was passed when a 1d array was expected. Please change the shape of y to (n_samples,), for example using ravel().\n",
      "C:\\Users\\iseob\\Anaconda3\\lib\\site-packages\\sklearn\\utils\\validation.py:578: DataConversionWarning: A column-vector y was passed when a 1d array was expected. Please change the shape of y to (n_samples, ), for example using ravel().\n",
      "  y = column_or_1d(y, warn=True)\n",
      "C:\\Users\\iseob\\Anaconda3\\lib\\site-packages\\ipykernel_launcher.py:40: DataConversionWarning: A column-vector y was passed when a 1d array was expected. Please change the shape of y to (n_samples, ), for example using ravel().\n"
     ]
    },
    {
     "name": "stdout",
     "output_type": "stream",
     "text": [
      "0.9308377365972085\n",
      "0.9244083907262034\n",
      "0.9175689638254235\n",
      "0.7002772791043851\n",
      "(16557, 21)\n",
      "(8155, 21)\n",
      "(16557, 1)\n",
      "(8155, 1)\n",
      "15\n"
     ]
    },
    {
     "name": "stderr",
     "output_type": "stream",
     "text": [
      "C:\\Users\\iseob\\Anaconda3\\lib\\site-packages\\ipykernel_launcher.py:28: DataConversionWarning: A column-vector y was passed when a 1d array was expected. Please change the shape of y to (n_samples,), for example using ravel().\n",
      "C:\\Users\\iseob\\Anaconda3\\lib\\site-packages\\sklearn\\utils\\validation.py:578: DataConversionWarning: A column-vector y was passed when a 1d array was expected. Please change the shape of y to (n_samples, ), for example using ravel().\n",
      "  y = column_or_1d(y, warn=True)\n",
      "C:\\Users\\iseob\\Anaconda3\\lib\\site-packages\\ipykernel_launcher.py:40: DataConversionWarning: A column-vector y was passed when a 1d array was expected. Please change the shape of y to (n_samples, ), for example using ravel().\n"
     ]
    },
    {
     "name": "stdout",
     "output_type": "stream",
     "text": [
      "0.9308377365972085\n",
      "0.9273886243444952\n",
      "0.917602968796032\n",
      "0.7022517348847391\n",
      "(16557, 20)\n",
      "(8155, 20)\n",
      "(16557, 1)\n",
      "(8155, 1)\n",
      "16\n"
     ]
    },
    {
     "name": "stderr",
     "output_type": "stream",
     "text": [
      "C:\\Users\\iseob\\Anaconda3\\lib\\site-packages\\ipykernel_launcher.py:28: DataConversionWarning: A column-vector y was passed when a 1d array was expected. Please change the shape of y to (n_samples,), for example using ravel().\n",
      "C:\\Users\\iseob\\Anaconda3\\lib\\site-packages\\sklearn\\utils\\validation.py:578: DataConversionWarning: A column-vector y was passed when a 1d array was expected. Please change the shape of y to (n_samples, ), for example using ravel().\n",
      "  y = column_or_1d(y, warn=True)\n",
      "C:\\Users\\iseob\\Anaconda3\\lib\\site-packages\\ipykernel_launcher.py:40: DataConversionWarning: A column-vector y was passed when a 1d array was expected. Please change the shape of y to (n_samples, ), for example using ravel().\n"
     ]
    },
    {
     "name": "stdout",
     "output_type": "stream",
     "text": [
      "0.9308377365972085\n",
      "0.9284936265687271\n",
      "0.9174344187743015\n",
      "0.7032852773890985\n",
      "(16557, 19)\n",
      "(8155, 19)\n",
      "(16557, 1)\n",
      "(8155, 1)\n",
      "17\n"
     ]
    },
    {
     "name": "stderr",
     "output_type": "stream",
     "text": [
      "C:\\Users\\iseob\\Anaconda3\\lib\\site-packages\\ipykernel_launcher.py:28: DataConversionWarning: A column-vector y was passed when a 1d array was expected. Please change the shape of y to (n_samples,), for example using ravel().\n",
      "C:\\Users\\iseob\\Anaconda3\\lib\\site-packages\\sklearn\\utils\\validation.py:578: DataConversionWarning: A column-vector y was passed when a 1d array was expected. Please change the shape of y to (n_samples, ), for example using ravel().\n",
      "  y = column_or_1d(y, warn=True)\n",
      "C:\\Users\\iseob\\Anaconda3\\lib\\site-packages\\ipykernel_launcher.py:40: DataConversionWarning: A column-vector y was passed when a 1d array was expected. Please change the shape of y to (n_samples, ), for example using ravel().\n"
     ]
    },
    {
     "name": "stdout",
     "output_type": "stream",
     "text": [
      "0.9308377365972085\n",
      "0.930097414322107\n",
      "0.9176242392585733\n",
      "0.7038515971329332\n",
      "(16557, 18)\n",
      "(8155, 18)\n",
      "(16557, 1)\n",
      "(8155, 1)\n",
      "18\n"
     ]
    },
    {
     "name": "stderr",
     "output_type": "stream",
     "text": [
      "C:\\Users\\iseob\\Anaconda3\\lib\\site-packages\\ipykernel_launcher.py:28: DataConversionWarning: A column-vector y was passed when a 1d array was expected. Please change the shape of y to (n_samples,), for example using ravel().\n",
      "C:\\Users\\iseob\\Anaconda3\\lib\\site-packages\\sklearn\\utils\\validation.py:578: DataConversionWarning: A column-vector y was passed when a 1d array was expected. Please change the shape of y to (n_samples, ), for example using ravel().\n",
      "  y = column_or_1d(y, warn=True)\n",
      "C:\\Users\\iseob\\Anaconda3\\lib\\site-packages\\ipykernel_launcher.py:40: DataConversionWarning: A column-vector y was passed when a 1d array was expected. Please change the shape of y to (n_samples, ), for example using ravel().\n"
     ]
    },
    {
     "name": "stdout",
     "output_type": "stream",
     "text": [
      "0.9308377365972085\n",
      "0.9311436673551242\n",
      "0.9175710786384398\n",
      "0.7047458399114868\n",
      "(16557, 17)\n",
      "(8155, 17)\n",
      "(16557, 1)\n",
      "(8155, 1)\n",
      "19\n"
     ]
    },
    {
     "name": "stderr",
     "output_type": "stream",
     "text": [
      "C:\\Users\\iseob\\Anaconda3\\lib\\site-packages\\ipykernel_launcher.py:28: DataConversionWarning: A column-vector y was passed when a 1d array was expected. Please change the shape of y to (n_samples,), for example using ravel().\n",
      "C:\\Users\\iseob\\Anaconda3\\lib\\site-packages\\sklearn\\utils\\validation.py:578: DataConversionWarning: A column-vector y was passed when a 1d array was expected. Please change the shape of y to (n_samples, ), for example using ravel().\n",
      "  y = column_or_1d(y, warn=True)\n",
      "C:\\Users\\iseob\\Anaconda3\\lib\\site-packages\\ipykernel_launcher.py:40: DataConversionWarning: A column-vector y was passed when a 1d array was expected. Please change the shape of y to (n_samples, ), for example using ravel().\n"
     ]
    },
    {
     "name": "stdout",
     "output_type": "stream",
     "text": [
      "0.9308377365972085\n",
      "0.9324906483461335\n",
      "0.9176887393784705\n",
      "0.7045945235123383\n",
      "(16557, 16)\n",
      "(8155, 16)\n",
      "(16557, 1)\n",
      "(8155, 1)\n",
      "20\n"
     ]
    },
    {
     "name": "stderr",
     "output_type": "stream",
     "text": [
      "C:\\Users\\iseob\\Anaconda3\\lib\\site-packages\\ipykernel_launcher.py:28: DataConversionWarning: A column-vector y was passed when a 1d array was expected. Please change the shape of y to (n_samples,), for example using ravel().\n",
      "C:\\Users\\iseob\\Anaconda3\\lib\\site-packages\\sklearn\\utils\\validation.py:578: DataConversionWarning: A column-vector y was passed when a 1d array was expected. Please change the shape of y to (n_samples, ), for example using ravel().\n",
      "  y = column_or_1d(y, warn=True)\n",
      "C:\\Users\\iseob\\Anaconda3\\lib\\site-packages\\ipykernel_launcher.py:40: DataConversionWarning: A column-vector y was passed when a 1d array was expected. Please change the shape of y to (n_samples, ), for example using ravel().\n"
     ]
    },
    {
     "name": "stdout",
     "output_type": "stream",
     "text": [
      "0.9287131442996799\n",
      "0.9314553850971997\n",
      "0.9167741792165822\n",
      "0.676476873071808\n",
      "(16557, 15)\n",
      "(8155, 15)\n",
      "(16557, 1)\n",
      "(8155, 1)\n",
      "21\n"
     ]
    },
    {
     "name": "stderr",
     "output_type": "stream",
     "text": [
      "C:\\Users\\iseob\\Anaconda3\\lib\\site-packages\\ipykernel_launcher.py:28: DataConversionWarning: A column-vector y was passed when a 1d array was expected. Please change the shape of y to (n_samples,), for example using ravel().\n",
      "C:\\Users\\iseob\\Anaconda3\\lib\\site-packages\\sklearn\\utils\\validation.py:578: DataConversionWarning: A column-vector y was passed when a 1d array was expected. Please change the shape of y to (n_samples, ), for example using ravel().\n",
      "  y = column_or_1d(y, warn=True)\n",
      "C:\\Users\\iseob\\Anaconda3\\lib\\site-packages\\ipykernel_launcher.py:40: DataConversionWarning: A column-vector y was passed when a 1d array was expected. Please change the shape of y to (n_samples, ), for example using ravel().\n"
     ]
    },
    {
     "name": "stdout",
     "output_type": "stream",
     "text": [
      "0.9287131442996799\n",
      "0.9288967548347479\n",
      "0.916725110771217\n",
      "0.675921938554797\n",
      "(16557, 14)\n",
      "(8155, 14)\n",
      "(16557, 1)\n",
      "(8155, 1)\n",
      "22\n"
     ]
    },
    {
     "name": "stderr",
     "output_type": "stream",
     "text": [
      "C:\\Users\\iseob\\Anaconda3\\lib\\site-packages\\ipykernel_launcher.py:28: DataConversionWarning: A column-vector y was passed when a 1d array was expected. Please change the shape of y to (n_samples,), for example using ravel().\n",
      "C:\\Users\\iseob\\Anaconda3\\lib\\site-packages\\sklearn\\utils\\validation.py:578: DataConversionWarning: A column-vector y was passed when a 1d array was expected. Please change the shape of y to (n_samples, ), for example using ravel().\n",
      "  y = column_or_1d(y, warn=True)\n",
      "C:\\Users\\iseob\\Anaconda3\\lib\\site-packages\\ipykernel_launcher.py:40: DataConversionWarning: A column-vector y was passed when a 1d array was expected. Please change the shape of y to (n_samples, ), for example using ravel().\n"
     ]
    },
    {
     "name": "stdout",
     "output_type": "stream",
     "text": [
      "0.9287131442996799\n",
      "0.9277813469264518\n",
      "0.9164438351833342\n",
      "0.675610451596501\n",
      "(16557, 13)\n",
      "(8155, 13)\n",
      "(16557, 1)\n",
      "(8155, 1)\n",
      "23\n"
     ]
    },
    {
     "name": "stderr",
     "output_type": "stream",
     "text": [
      "C:\\Users\\iseob\\Anaconda3\\lib\\site-packages\\ipykernel_launcher.py:28: DataConversionWarning: A column-vector y was passed when a 1d array was expected. Please change the shape of y to (n_samples,), for example using ravel().\n",
      "C:\\Users\\iseob\\Anaconda3\\lib\\site-packages\\sklearn\\utils\\validation.py:578: DataConversionWarning: A column-vector y was passed when a 1d array was expected. Please change the shape of y to (n_samples, ), for example using ravel().\n",
      "  y = column_or_1d(y, warn=True)\n",
      "C:\\Users\\iseob\\Anaconda3\\lib\\site-packages\\ipykernel_launcher.py:40: DataConversionWarning: A column-vector y was passed when a 1d array was expected. Please change the shape of y to (n_samples, ), for example using ravel().\n"
     ]
    },
    {
     "name": "stdout",
     "output_type": "stream",
     "text": [
      "0.9287095154924151\n",
      "0.9325297289767936\n",
      "0.9165116822970495\n",
      "0.6809926812001537\n",
      "(16557, 12)\n",
      "(8155, 12)\n",
      "(16557, 1)\n",
      "(8155, 1)\n",
      "24\n"
     ]
    },
    {
     "name": "stderr",
     "output_type": "stream",
     "text": [
      "C:\\Users\\iseob\\Anaconda3\\lib\\site-packages\\ipykernel_launcher.py:28: DataConversionWarning: A column-vector y was passed when a 1d array was expected. Please change the shape of y to (n_samples,), for example using ravel().\n",
      "C:\\Users\\iseob\\Anaconda3\\lib\\site-packages\\sklearn\\utils\\validation.py:578: DataConversionWarning: A column-vector y was passed when a 1d array was expected. Please change the shape of y to (n_samples, ), for example using ravel().\n",
      "  y = column_or_1d(y, warn=True)\n",
      "C:\\Users\\iseob\\Anaconda3\\lib\\site-packages\\ipykernel_launcher.py:40: DataConversionWarning: A column-vector y was passed when a 1d array was expected. Please change the shape of y to (n_samples, ), for example using ravel().\n"
     ]
    },
    {
     "name": "stdout",
     "output_type": "stream",
     "text": [
      "0.9287062467013613\n",
      "0.9332696939711382\n",
      "0.9165383966824461\n",
      "0.6895692582173345\n",
      "(16557, 11)\n",
      "(8155, 11)\n",
      "(16557, 1)\n",
      "(8155, 1)\n",
      "25\n"
     ]
    },
    {
     "name": "stderr",
     "output_type": "stream",
     "text": [
      "C:\\Users\\iseob\\Anaconda3\\lib\\site-packages\\ipykernel_launcher.py:28: DataConversionWarning: A column-vector y was passed when a 1d array was expected. Please change the shape of y to (n_samples,), for example using ravel().\n",
      "C:\\Users\\iseob\\Anaconda3\\lib\\site-packages\\sklearn\\utils\\validation.py:578: DataConversionWarning: A column-vector y was passed when a 1d array was expected. Please change the shape of y to (n_samples, ), for example using ravel().\n",
      "  y = column_or_1d(y, warn=True)\n",
      "C:\\Users\\iseob\\Anaconda3\\lib\\site-packages\\ipykernel_launcher.py:40: DataConversionWarning: A column-vector y was passed when a 1d array was expected. Please change the shape of y to (n_samples, ), for example using ravel().\n"
     ]
    },
    {
     "name": "stdout",
     "output_type": "stream",
     "text": [
      "0.9286901558583256\n",
      "0.9322757219052947\n",
      "0.9155819589330051\n",
      "0.6939603727379382\n",
      "(16557, 10)\n",
      "(8155, 10)\n",
      "(16557, 1)\n",
      "(8155, 1)\n",
      "26\n"
     ]
    },
    {
     "name": "stderr",
     "output_type": "stream",
     "text": [
      "C:\\Users\\iseob\\Anaconda3\\lib\\site-packages\\ipykernel_launcher.py:28: DataConversionWarning: A column-vector y was passed when a 1d array was expected. Please change the shape of y to (n_samples,), for example using ravel().\n",
      "C:\\Users\\iseob\\Anaconda3\\lib\\site-packages\\sklearn\\utils\\validation.py:578: DataConversionWarning: A column-vector y was passed when a 1d array was expected. Please change the shape of y to (n_samples, ), for example using ravel().\n",
      "  y = column_or_1d(y, warn=True)\n",
      "C:\\Users\\iseob\\Anaconda3\\lib\\site-packages\\ipykernel_launcher.py:40: DataConversionWarning: A column-vector y was passed when a 1d array was expected. Please change the shape of y to (n_samples, ), for example using ravel().\n"
     ]
    },
    {
     "name": "stdout",
     "output_type": "stream",
     "text": [
      "0.9275169336843592\n",
      "0.9339740221977471\n",
      "0.9059991711647373\n",
      "0.6956686045959655\n",
      "(16557, 9)\n",
      "(8155, 9)\n",
      "(16557, 1)\n",
      "(8155, 1)\n",
      "27\n"
     ]
    },
    {
     "name": "stderr",
     "output_type": "stream",
     "text": [
      "C:\\Users\\iseob\\Anaconda3\\lib\\site-packages\\ipykernel_launcher.py:28: DataConversionWarning: A column-vector y was passed when a 1d array was expected. Please change the shape of y to (n_samples,), for example using ravel().\n",
      "C:\\Users\\iseob\\Anaconda3\\lib\\site-packages\\sklearn\\utils\\validation.py:578: DataConversionWarning: A column-vector y was passed when a 1d array was expected. Please change the shape of y to (n_samples, ), for example using ravel().\n",
      "  y = column_or_1d(y, warn=True)\n",
      "C:\\Users\\iseob\\Anaconda3\\lib\\site-packages\\ipykernel_launcher.py:40: DataConversionWarning: A column-vector y was passed when a 1d array was expected. Please change the shape of y to (n_samples, ), for example using ravel().\n"
     ]
    },
    {
     "name": "stdout",
     "output_type": "stream",
     "text": [
      "0.9272240361521723\n",
      "0.9345105411732959\n",
      "0.904445198006038\n",
      "0.6936269296877267\n",
      "(16557, 8)\n",
      "(8155, 8)\n",
      "(16557, 1)\n",
      "(8155, 1)\n",
      "28\n"
     ]
    },
    {
     "name": "stderr",
     "output_type": "stream",
     "text": [
      "C:\\Users\\iseob\\Anaconda3\\lib\\site-packages\\ipykernel_launcher.py:28: DataConversionWarning: A column-vector y was passed when a 1d array was expected. Please change the shape of y to (n_samples,), for example using ravel().\n",
      "C:\\Users\\iseob\\Anaconda3\\lib\\site-packages\\sklearn\\utils\\validation.py:578: DataConversionWarning: A column-vector y was passed when a 1d array was expected. Please change the shape of y to (n_samples, ), for example using ravel().\n",
      "  y = column_or_1d(y, warn=True)\n",
      "C:\\Users\\iseob\\Anaconda3\\lib\\site-packages\\ipykernel_launcher.py:40: DataConversionWarning: A column-vector y was passed when a 1d array was expected. Please change the shape of y to (n_samples, ), for example using ravel().\n"
     ]
    },
    {
     "name": "stdout",
     "output_type": "stream",
     "text": [
      "0.9272240361521723\n",
      "0.931786226081757\n",
      "0.9044389067891225\n",
      "0.6949668485437595\n",
      "(16557, 7)\n",
      "(8155, 7)\n",
      "(16557, 1)\n",
      "(8155, 1)\n",
      "29\n"
     ]
    },
    {
     "name": "stderr",
     "output_type": "stream",
     "text": [
      "C:\\Users\\iseob\\Anaconda3\\lib\\site-packages\\ipykernel_launcher.py:28: DataConversionWarning: A column-vector y was passed when a 1d array was expected. Please change the shape of y to (n_samples,), for example using ravel().\n",
      "C:\\Users\\iseob\\Anaconda3\\lib\\site-packages\\sklearn\\utils\\validation.py:578: DataConversionWarning: A column-vector y was passed when a 1d array was expected. Please change the shape of y to (n_samples, ), for example using ravel().\n",
      "  y = column_or_1d(y, warn=True)\n",
      "C:\\Users\\iseob\\Anaconda3\\lib\\site-packages\\ipykernel_launcher.py:40: DataConversionWarning: A column-vector y was passed when a 1d array was expected. Please change the shape of y to (n_samples, ), for example using ravel().\n"
     ]
    },
    {
     "name": "stdout",
     "output_type": "stream",
     "text": [
      "0.9272858464578583\n",
      "0.9338011372574011\n",
      "0.9029681113529128\n",
      "0.6941163388244089\n",
      "(16557, 6)\n",
      "(8155, 6)\n",
      "(16557, 1)\n",
      "(8155, 1)\n",
      "30\n"
     ]
    },
    {
     "name": "stderr",
     "output_type": "stream",
     "text": [
      "C:\\Users\\iseob\\Anaconda3\\lib\\site-packages\\ipykernel_launcher.py:28: DataConversionWarning: A column-vector y was passed when a 1d array was expected. Please change the shape of y to (n_samples,), for example using ravel().\n",
      "C:\\Users\\iseob\\Anaconda3\\lib\\site-packages\\sklearn\\utils\\validation.py:578: DataConversionWarning: A column-vector y was passed when a 1d array was expected. Please change the shape of y to (n_samples, ), for example using ravel().\n",
      "  y = column_or_1d(y, warn=True)\n",
      "C:\\Users\\iseob\\Anaconda3\\lib\\site-packages\\ipykernel_launcher.py:40: DataConversionWarning: A column-vector y was passed when a 1d array was expected. Please change the shape of y to (n_samples, ), for example using ravel().\n"
     ]
    },
    {
     "name": "stdout",
     "output_type": "stream",
     "text": [
      "0.9273790089911229\n",
      "0.9360022539603163\n",
      "0.9017896890982499\n",
      "0.6985643713073671\n",
      "(16557, 5)\n",
      "(8155, 5)\n",
      "(16557, 1)\n",
      "(8155, 1)\n",
      "31\n"
     ]
    },
    {
     "name": "stderr",
     "output_type": "stream",
     "text": [
      "C:\\Users\\iseob\\Anaconda3\\lib\\site-packages\\ipykernel_launcher.py:28: DataConversionWarning: A column-vector y was passed when a 1d array was expected. Please change the shape of y to (n_samples,), for example using ravel().\n",
      "C:\\Users\\iseob\\Anaconda3\\lib\\site-packages\\sklearn\\utils\\validation.py:578: DataConversionWarning: A column-vector y was passed when a 1d array was expected. Please change the shape of y to (n_samples, ), for example using ravel().\n",
      "  y = column_or_1d(y, warn=True)\n",
      "C:\\Users\\iseob\\Anaconda3\\lib\\site-packages\\ipykernel_launcher.py:40: DataConversionWarning: A column-vector y was passed when a 1d array was expected. Please change the shape of y to (n_samples, ), for example using ravel().\n"
     ]
    },
    {
     "name": "stdout",
     "output_type": "stream",
     "text": [
      "0.9273790089911229\n",
      "0.9369925801168766\n",
      "0.9018256093077236\n",
      "0.7016128794234142\n",
      "(16557, 4)\n",
      "(8155, 4)\n",
      "(16557, 1)\n",
      "(8155, 1)\n",
      "32\n"
     ]
    },
    {
     "name": "stderr",
     "output_type": "stream",
     "text": [
      "C:\\Users\\iseob\\Anaconda3\\lib\\site-packages\\ipykernel_launcher.py:28: DataConversionWarning: A column-vector y was passed when a 1d array was expected. Please change the shape of y to (n_samples,), for example using ravel().\n",
      "C:\\Users\\iseob\\Anaconda3\\lib\\site-packages\\sklearn\\utils\\validation.py:578: DataConversionWarning: A column-vector y was passed when a 1d array was expected. Please change the shape of y to (n_samples, ), for example using ravel().\n",
      "  y = column_or_1d(y, warn=True)\n",
      "C:\\Users\\iseob\\Anaconda3\\lib\\site-packages\\ipykernel_launcher.py:40: DataConversionWarning: A column-vector y was passed when a 1d array was expected. Please change the shape of y to (n_samples, ), for example using ravel().\n"
     ]
    },
    {
     "name": "stdout",
     "output_type": "stream",
     "text": [
      "0.926394407434065\n",
      "0.9376105728672725\n",
      "0.9018658187650767\n",
      "0.6968234143697228\n",
      "(16557, 3)\n",
      "(8155, 3)\n",
      "(16557, 1)\n",
      "(8155, 1)\n",
      "33\n"
     ]
    },
    {
     "name": "stderr",
     "output_type": "stream",
     "text": [
      "C:\\Users\\iseob\\Anaconda3\\lib\\site-packages\\ipykernel_launcher.py:28: DataConversionWarning: A column-vector y was passed when a 1d array was expected. Please change the shape of y to (n_samples,), for example using ravel().\n",
      "C:\\Users\\iseob\\Anaconda3\\lib\\site-packages\\sklearn\\utils\\validation.py:578: DataConversionWarning: A column-vector y was passed when a 1d array was expected. Please change the shape of y to (n_samples, ), for example using ravel().\n",
      "  y = column_or_1d(y, warn=True)\n",
      "C:\\Users\\iseob\\Anaconda3\\lib\\site-packages\\ipykernel_launcher.py:40: DataConversionWarning: A column-vector y was passed when a 1d array was expected. Please change the shape of y to (n_samples, ), for example using ravel().\n"
     ]
    },
    {
     "name": "stdout",
     "output_type": "stream",
     "text": [
      "0.9257979675186025\n",
      "0.9334016114002672\n",
      "0.900983954472266\n",
      "0.6884910512256608\n"
     ]
    }
   ],
   "source": [
    "list_predicts = []\n",
    "for i in range(1, len(spisok)):\n",
    "\n",
    "    \n",
    "    df_del = df_for_model\n",
    "    # тестируем скинуть данные\n",
    "    df_del = df_del.drop(spisok[:i], axis=1)\n",
    "    \n",
    "    df_del_train = df_del.query('sample == \"train\"').drop(['sample'], axis=1)\n",
    "    df_del_test = df_del.query('sample == \"test\"').drop(['sample'], axis=1)\n",
    "    \n",
    "    \n",
    "    XX_del_train, XX_del_test, yy_del_train, yy_del_test = train_test_split(df_del_train, train_target, test_size=0.33, random_state=42)\n",
    "    \n",
    "    print(XX_del_train.shape)\n",
    "    print(XX_del_test.shape)\n",
    "    print(yy_del_train.shape)\n",
    "    print(yy_del_test.shape)\n",
    "    print(i)\n",
    "    \n",
    "    dtc = DecisionTreeClassifier(max_depth=5, criterion='entropy')\n",
    "    dtc.fit(XX_del_train, yy_del_train)\n",
    "    predict = dtc.predict(XX_del_test)\n",
    "    predict_pr = dtc.predict_proba(XX_del_test)\n",
    "\n",
    "\n",
    "    dtc3 = RandomForestClassifier(max_depth=5, criterion='entropy')\n",
    "    dtc3.fit(XX_del_train, yy_del_train)\n",
    "    predict3 = dtc3.predict(XX_del_test)\n",
    "    predict_pr3 = dtc3.predict_proba(XX_del_test)\n",
    "\n",
    "\n",
    "    dtc4 = LogisticRegression()\n",
    "    dtc4.fit(XX_del_train, yy_del_train)\n",
    "    predict4 = dtc4.predict(XX_del_test)\n",
    "    predict_pr4 = dtc4.predict_proba(XX_del_test)\n",
    "\n",
    "\n",
    "    knn = KNeighborsClassifier(n_neighbors=1)\n",
    "    knn.fit(XX_del_train, yy_del_train)\n",
    "    predictKnn = knn.predict(XX_del_test)\n",
    "    predict_Knn = knn.predict_proba(XX_del_test)\n",
    "  \n",
    "\n",
    "\n",
    "    m1 = cross_val_score(\n",
    "        dtc,\n",
    "        df_del_train,\n",
    "        train_target['target'],\n",
    "        scoring='roc_auc',\n",
    "        cv = 10\n",
    "        ).mean()\n",
    "    list_predicts.append(m1)\n",
    "    print(m1)\n",
    "\n",
    "    m2 = cross_val_score(\n",
    "        dtc3,\n",
    "        df_del_train,\n",
    "        train_target['target'],\n",
    "        scoring='roc_auc',\n",
    "        cv=10\n",
    "        ).mean()\n",
    "    list_predicts.append(m2)\n",
    "    print(m2)\n",
    "\n",
    "    m3 = cross_val_score(\n",
    "        dtc4,\n",
    "        df_del_train,\n",
    "        train_target['target'],\n",
    "        scoring='roc_auc',\n",
    "        cv=10\n",
    "        ).mean()\n",
    "    list_predicts.append(m3)\n",
    "    print(m3)\n",
    "\n",
    "    m4 = cross_val_score(\n",
    "        knn,\n",
    "        df_del_train,\n",
    "        train_target['target'],\n",
    "        scoring='roc_auc',\n",
    "        cv=10\n",
    "        ).mean()\n",
    "    list_predicts.append(m4)\n",
    "    print(m4)"
   ]
  },
  {
   "cell_type": "code",
   "execution_count": 376,
   "metadata": {
    "scrolled": true
   },
   "outputs": [
    {
     "data": {
      "text/plain": [
       "0.9376105728672725"
      ]
     },
     "execution_count": 376,
     "metadata": {},
     "output_type": "execute_result"
    }
   ],
   "source": [
    "max(list_predicts)"
   ]
  },
  {
   "cell_type": "code",
   "execution_count": 377,
   "metadata": {},
   "outputs": [
    {
     "data": {
      "text/plain": [
       "['default_yes',\n",
       " 'education_illiterate',\n",
       " 'pdays',\n",
       " 'loan_unknown',\n",
       " 'housing_unknown',\n",
       " 'marital_unknown',\n",
       " 'age',\n",
       " 'nr.employed',\n",
       " 'marital_divorced',\n",
       " 'education_unknown',\n",
       " 'education_professional.course',\n",
       " 'poutcome_success',\n",
       " 'campaign',\n",
       " 'housing_yes',\n",
       " 'loan_yes',\n",
       " 'education_basic.6y',\n",
       " 'housing_no',\n",
       " 'education_basic.4y',\n",
       " 'loan_no',\n",
       " 'cons.conf.idx',\n",
       " 'education_high.school',\n",
       " 'education_basic.9y',\n",
       " 'marital_single',\n",
       " 'marital_married',\n",
       " 'previous',\n",
       " 'poutcome_nonexistent',\n",
       " 'poutcome_failure',\n",
       " 'default_unknown',\n",
       " 'default_no',\n",
       " 'education_university.degree',\n",
       " 'contact_telephone',\n",
       " 'contact_cellular']"
      ]
     },
     "execution_count": 377,
     "metadata": {},
     "output_type": "execute_result"
    }
   ],
   "source": [
    "spisok[:32]"
   ]
  },
  {
   "cell_type": "code",
   "execution_count": 378,
   "metadata": {},
   "outputs": [
    {
     "data": {
      "text/plain": [
       "['emp.var.rate', 'cons.price.idx']"
      ]
     },
     "execution_count": 378,
     "metadata": {},
     "output_type": "execute_result"
    }
   ],
   "source": [
    "spisok[32:]"
   ]
  },
  {
   "cell_type": "code",
   "execution_count": null,
   "metadata": {},
   "outputs": [],
   "source": [
    "самые важные признаки\n",
    "#euribor3m\n",
    "#duration\n",
    "#emp.var.rate\n",
    "#cons.price.idx\n",
    "#0.9376105728672725 - лучшее что видел на random forest при этом работали только фичи указанные выше"
   ]
  }
 ],
 "metadata": {
  "kernelspec": {
   "display_name": "Python 3",
   "language": "python",
   "name": "python3"
  },
  "language_info": {
   "codemirror_mode": {
    "name": "ipython",
    "version": 3
   },
   "file_extension": ".py",
   "mimetype": "text/x-python",
   "name": "python",
   "nbconvert_exporter": "python",
   "pygments_lexer": "ipython3",
   "version": "3.6.4"
  }
 },
 "nbformat": 4,
 "nbformat_minor": 2
}
